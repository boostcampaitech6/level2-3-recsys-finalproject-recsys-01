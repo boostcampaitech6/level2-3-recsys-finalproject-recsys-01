{
 "cells": [
  {
   "cell_type": "markdown",
   "metadata": {},
   "source": [
    "# 시퀀셜 데이터의 길이 파악하기"
   ]
  },
  {
   "cell_type": "code",
   "execution_count": 1,
   "metadata": {},
   "outputs": [],
   "source": [
    "import os\n",
    "from datetime import datetime as dt\n",
    "\n",
    "import pandas as pd\n",
    "import numpy as np\n",
    "\n",
    "import matplotlib.pyplot as plt\n",
    "import seaborn as sns"
   ]
  },
  {
   "cell_type": "code",
   "execution_count": 2,
   "metadata": {},
   "outputs": [],
   "source": [
    "data_dir = '/dev/shm/data/3.preprocessed'"
   ]
  },
  {
   "cell_type": "code",
   "execution_count": 3,
   "metadata": {},
   "outputs": [
    {
     "name": "stdout",
     "output_type": "stream",
     "text": [
      "(276847, 4)\n"
     ]
    },
    {
     "data": {
      "text/html": [
       "<div>\n",
       "<style scoped>\n",
       "    .dataframe tbody tr th:only-of-type {\n",
       "        vertical-align: middle;\n",
       "    }\n",
       "\n",
       "    .dataframe tbody tr th {\n",
       "        vertical-align: top;\n",
       "    }\n",
       "\n",
       "    .dataframe thead th {\n",
       "        text-align: right;\n",
       "    }\n",
       "</style>\n",
       "<table border=\"1\" class=\"dataframe\">\n",
       "  <thead>\n",
       "    <tr style=\"text-align: right;\">\n",
       "      <th></th>\n",
       "      <th>uid</th>\n",
       "      <th>recipe_sno</th>\n",
       "      <th>rating</th>\n",
       "      <th>datetime</th>\n",
       "    </tr>\n",
       "  </thead>\n",
       "  <tbody>\n",
       "    <tr>\n",
       "      <th>39884</th>\n",
       "      <td>96480788</td>\n",
       "      <td>6894096</td>\n",
       "      <td>5.0</td>\n",
       "      <td>2020-11-15 20:16</td>\n",
       "    </tr>\n",
       "    <tr>\n",
       "      <th>17188</th>\n",
       "      <td>hskim4127</td>\n",
       "      <td>7018883</td>\n",
       "      <td>NaN</td>\n",
       "      <td>NaN</td>\n",
       "    </tr>\n",
       "    <tr>\n",
       "      <th>193360</th>\n",
       "      <td>75926689</td>\n",
       "      <td>6929293</td>\n",
       "      <td>5.0</td>\n",
       "      <td>2021-01-25 13:39</td>\n",
       "    </tr>\n",
       "    <tr>\n",
       "      <th>182343</th>\n",
       "      <td>91192272</td>\n",
       "      <td>3450146</td>\n",
       "      <td>5.0</td>\n",
       "      <td>2019-12-16 22:40</td>\n",
       "    </tr>\n",
       "    <tr>\n",
       "      <th>5016</th>\n",
       "      <td>33006056</td>\n",
       "      <td>6879915</td>\n",
       "      <td>NaN</td>\n",
       "      <td>NaN</td>\n",
       "    </tr>\n",
       "  </tbody>\n",
       "</table>\n",
       "</div>"
      ],
      "text/plain": [
       "              uid  recipe_sno  rating          datetime\n",
       "39884    96480788     6894096     5.0  2020-11-15 20:16\n",
       "17188   hskim4127     7018883     NaN               NaN\n",
       "193360   75926689     6929293     5.0  2021-01-25 13:39\n",
       "182343   91192272     3450146     5.0  2019-12-16 22:40\n",
       "5016     33006056     6879915     NaN               NaN"
      ]
     },
     "execution_count": 3,
     "metadata": {},
     "output_type": "execute_result"
    }
   ],
   "source": [
    "df = pd.read_csv(os.path.join(data_dir, 'merged-data-over-5-240321.csv'))\n",
    "print(df.shape)\n",
    "df.sample(5)"
   ]
  },
  {
   "cell_type": "code",
   "execution_count": 4,
   "metadata": {},
   "outputs": [
    {
     "data": {
      "text/html": [
       "<div>\n",
       "<style scoped>\n",
       "    .dataframe tbody tr th:only-of-type {\n",
       "        vertical-align: middle;\n",
       "    }\n",
       "\n",
       "    .dataframe tbody tr th {\n",
       "        vertical-align: top;\n",
       "    }\n",
       "\n",
       "    .dataframe thead th {\n",
       "        text-align: right;\n",
       "    }\n",
       "</style>\n",
       "<table border=\"1\" class=\"dataframe\">\n",
       "  <thead>\n",
       "    <tr style=\"text-align: right;\">\n",
       "      <th></th>\n",
       "      <th>uid</th>\n",
       "      <th>recipe_sno</th>\n",
       "      <th>rating</th>\n",
       "      <th>datetime</th>\n",
       "    </tr>\n",
       "  </thead>\n",
       "  <tbody>\n",
       "    <tr>\n",
       "      <th>178381</th>\n",
       "      <td>10912821</td>\n",
       "      <td>6857278</td>\n",
       "      <td>5.0</td>\n",
       "      <td>2020-10-17 11:21</td>\n",
       "    </tr>\n",
       "    <tr>\n",
       "      <th>28152</th>\n",
       "      <td>39744183</td>\n",
       "      <td>6977345</td>\n",
       "      <td>NaN</td>\n",
       "      <td>NaN</td>\n",
       "    </tr>\n",
       "    <tr>\n",
       "      <th>194133</th>\n",
       "      <td>58279933</td>\n",
       "      <td>6908498</td>\n",
       "      <td>5.0</td>\n",
       "      <td>2023-05-21 19:03</td>\n",
       "    </tr>\n",
       "    <tr>\n",
       "      <th>263272</th>\n",
       "      <td>37206998</td>\n",
       "      <td>6891816</td>\n",
       "      <td>5.0</td>\n",
       "      <td>2022-01-12 15:17</td>\n",
       "    </tr>\n",
       "    <tr>\n",
       "      <th>267774</th>\n",
       "      <td>32362626</td>\n",
       "      <td>6840310</td>\n",
       "      <td>5.0</td>\n",
       "      <td>2023-10-03 09:14</td>\n",
       "    </tr>\n",
       "  </tbody>\n",
       "</table>\n",
       "</div>"
      ],
      "text/plain": [
       "             uid  recipe_sno  rating          datetime\n",
       "178381  10912821     6857278     5.0  2020-10-17 11:21\n",
       "28152   39744183     6977345     NaN               NaN\n",
       "194133  58279933     6908498     5.0  2023-05-21 19:03\n",
       "263272  37206998     6891816     5.0  2022-01-12 15:17\n",
       "267774  32362626     6840310     5.0  2023-10-03 09:14"
      ]
     },
     "execution_count": 4,
     "metadata": {},
     "output_type": "execute_result"
    }
   ],
   "source": [
    "# sort by uid, datetime\n",
    "sorted_df = df.sort_values(by=['uid', 'datetime'], na_position='first')\n",
    "sorted_df.sample(5)"
   ]
  },
  {
   "cell_type": "code",
   "execution_count": 5,
   "metadata": {},
   "outputs": [
    {
     "data": {
      "text/html": [
       "<div>\n",
       "<style scoped>\n",
       "    .dataframe tbody tr th:only-of-type {\n",
       "        vertical-align: middle;\n",
       "    }\n",
       "\n",
       "    .dataframe tbody tr th {\n",
       "        vertical-align: top;\n",
       "    }\n",
       "\n",
       "    .dataframe thead th {\n",
       "        text-align: right;\n",
       "    }\n",
       "</style>\n",
       "<table border=\"1\" class=\"dataframe\">\n",
       "  <thead>\n",
       "    <tr style=\"text-align: right;\">\n",
       "      <th></th>\n",
       "      <th>recipe_sno</th>\n",
       "    </tr>\n",
       "    <tr>\n",
       "      <th>uid</th>\n",
       "      <th></th>\n",
       "    </tr>\n",
       "  </thead>\n",
       "  <tbody>\n",
       "    <tr>\n",
       "      <th>24900330</th>\n",
       "      <td>[6968044, 6950781, 6950376, 6949766, 6948855, ...</td>\n",
       "    </tr>\n",
       "    <tr>\n",
       "      <th>17536804</th>\n",
       "      <td>[6912137, 6866453, 6938845, 6848377, 6858795]</td>\n",
       "    </tr>\n",
       "    <tr>\n",
       "      <th>48902769</th>\n",
       "      <td>[6841018, 6865170, 6859263, 5419824, 6868963, ...</td>\n",
       "    </tr>\n",
       "    <tr>\n",
       "      <th>14209108</th>\n",
       "      <td>[6854350, 6887218, 6831734, 6843865, 6896724, ...</td>\n",
       "    </tr>\n",
       "    <tr>\n",
       "      <th>58428023</th>\n",
       "      <td>[6850895, 6852196, 6838648, 6836180, 6833703, ...</td>\n",
       "    </tr>\n",
       "  </tbody>\n",
       "</table>\n",
       "</div>"
      ],
      "text/plain": [
       "                                                 recipe_sno\n",
       "uid                                                        \n",
       "24900330  [6968044, 6950781, 6950376, 6949766, 6948855, ...\n",
       "17536804      [6912137, 6866453, 6938845, 6848377, 6858795]\n",
       "48902769  [6841018, 6865170, 6859263, 5419824, 6868963, ...\n",
       "14209108  [6854350, 6887218, 6831734, 6843865, 6896724, ...\n",
       "58428023  [6850895, 6852196, 6838648, 6836180, 6833703, ..."
      ]
     },
     "execution_count": 5,
     "metadata": {},
     "output_type": "execute_result"
    }
   ],
   "source": [
    "# groupby seq\n",
    "seq_df = sorted_df.groupby('uid').agg({'recipe_sno': list})\n",
    "seq_df.sample(5)"
   ]
  },
  {
   "cell_type": "code",
   "execution_count": 6,
   "metadata": {},
   "outputs": [
    {
     "data": {
      "image/png": "[encoded data removed]",
      "text/plain": [
       "<Figure size 640x480 with 1 Axes>"
      ]
     },
     "metadata": {},
     "output_type": "display_data"
    }
   ],
   "source": [
    "# sequence length\n",
    "sns.histplot(seq_df.recipe_sno.apply(len), bins=20)\n",
    "plt.show()"
   ]
  },
  {
   "cell_type": "markdown",
   "metadata": {},
   "source": [
    "> 데이터가 좌측으로 매우 치우침"
   ]
  },
  {
   "cell_type": "code",
   "execution_count": 7,
   "metadata": {},
   "outputs": [
    {
     "data": {
      "text/plain": [
       "count    20588.000000\n",
       "mean        13.447008\n",
       "std         58.350925\n",
       "min          5.000000\n",
       "25%          6.000000\n",
       "50%          8.000000\n",
       "75%         13.000000\n",
       "max       6273.000000\n",
       "Name: recipe_sno, dtype: float64"
      ]
     },
     "execution_count": 7,
     "metadata": {},
     "output_type": "execute_result"
    }
   ],
   "source": [
    "seq_df.recipe_sno.apply(len).describe()"
   ]
  },
  {
   "cell_type": "markdown",
   "metadata": {},
   "source": [
    "> 75% 의 유저가 13개 이하의 인터렉션을 가지며, 극도로 많은 인터렉션을 가지는 유저도 존재함"
   ]
  },
  {
   "cell_type": "code",
   "execution_count": 8,
   "metadata": {},
   "outputs": [
    {
     "data": {
      "text/plain": [
       "<Axes: xlabel='recipe_sno', ylabel='Count'>"
      ]
     },
     "execution_count": 8,
     "metadata": {},
     "output_type": "execute_result"
    },
    {
     "data": {
      "image/png": "[encoded data removed]",
      "text/plain": [
       "<Figure size 640x480 with 1 Axes>"
      ]
     },
     "metadata": {},
     "output_type": "display_data"
    }
   ],
   "source": [
    "sns.histplot(seq_df.recipe_sno.apply(len)[(seq_df.recipe_sno.apply(len) > 20) & (seq_df.recipe_sno.apply(len) < 100)])"
   ]
  },
  {
   "cell_type": "code",
   "execution_count": 10,
   "metadata": {},
   "outputs": [
    {
     "data": {
      "text/plain": [
       "((2393,), (135,), (6,), (20588,))"
      ]
     },
     "execution_count": 10,
     "metadata": {},
     "output_type": "execute_result"
    }
   ],
   "source": [
    "seq_df.recipe_sno.apply(len)[seq_df.recipe_sno.apply(len) > 20].shape, \\\n",
    "seq_df.recipe_sno.apply(len)[seq_df.recipe_sno.apply(len) > 100].shape, \\\n",
    "seq_df.recipe_sno.apply(len)[seq_df.recipe_sno.apply(len) > 1000].shape,\\\n",
    "seq_df.recipe_sno.shape"
   ]
  },
  {
   "cell_type": "markdown",
   "metadata": {},
   "source": [
    "> 총 2만 명의 사용자 중 10% 정도는 20개 이상의 인터렉션을 가지며, 100개 이상, 1000개 이상의 인터렉션을 가지는 유저는 매우 드문 편. sequence length가 길수록 더 많은 사용자의 상호작용을 캡처하나, 학습 및 추론 속도를 느리게 할 수 있음. 따라서 max_seq_length를 20, 50, 100으로 두고 실험하여, 성능과 속도 측면에서 비교해보고 결정하자."
   ]
  }
 ],
 "metadata": {
  "kernelspec": {
   "display_name": "airflow",
   "language": "python",
   "name": "python3"
  },
  "language_info": {
   "codemirror_mode": {
    "name": "ipython",
    "version": 3
   },
   "file_extension": ".py",
   "mimetype": "text/x-python",
   "name": "python",
   "nbconvert_exporter": "python",
   "pygments_lexer": "ipython3",
   "version": "3.10.13"
  }
 },
 "nbformat": 4,
 "nbformat_minor": 2
}
