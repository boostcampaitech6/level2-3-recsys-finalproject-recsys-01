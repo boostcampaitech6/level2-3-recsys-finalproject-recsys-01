{
 "cells": [
  {
   "cell_type": "code",
   "execution_count": 1,
   "metadata": {},
   "outputs": [
    {
     "name": "stderr",
     "output_type": "stream",
     "text": [
      "/dev/shm/venvs/airflow/lib/python3.10/site-packages/tqdm/auto.py:21: TqdmWarning: IProgress not found. Please update jupyter and ipywidgets. See https://ipywidgets.readthedocs.io/en/stable/user_install.html\n",
      "  from .autonotebook import tqdm as notebook_tqdm\n"
     ]
    }
   ],
   "source": [
    "from transformers import BertTokenizer, BertModel\n",
    "import torch\n",
    "import pandas as pd"
   ]
  },
  {
   "cell_type": "code",
   "execution_count": 2,
   "metadata": {},
   "outputs": [
    {
     "name": "stdout",
     "output_type": "stream",
     "text": [
      "(189926, 18)\n"
     ]
    },
    {
     "name": "stderr",
     "output_type": "stream",
     "text": [
      "/tmp/ipykernel_1571345/3952670458.py:1: DtypeWarning: Columns (12) have mixed types. Specify dtype option on import or set low_memory=False.\n",
      "  recipe_df = pd.read_csv('/dev/shm/notebooks/recipe-context/merged_recipes.csv', on_bad_lines='skip')\n"
     ]
    },
    {
     "data": {
      "text/html": [
       "<div>\n",
       "<style scoped>\n",
       "    .dataframe tbody tr th:only-of-type {\n",
       "        vertical-align: middle;\n",
       "    }\n",
       "\n",
       "    .dataframe tbody tr th {\n",
       "        vertical-align: top;\n",
       "    }\n",
       "\n",
       "    .dataframe thead th {\n",
       "        text-align: right;\n",
       "    }\n",
       "</style>\n",
       "<table border=\"1\" class=\"dataframe\">\n",
       "  <thead>\n",
       "    <tr style=\"text-align: right;\">\n",
       "      <th></th>\n",
       "      <th>recipe_id</th>\n",
       "      <th>recipe_title</th>\n",
       "      <th>recipe_name</th>\n",
       "      <th>author_id</th>\n",
       "      <th>author_name</th>\n",
       "      <th>recipe_method</th>\n",
       "      <th>recipe_status</th>\n",
       "      <th>recipe_kind</th>\n",
       "      <th>time_taken</th>\n",
       "      <th>difficulty</th>\n",
       "      <th>recipe_url</th>\n",
       "      <th>portion</th>\n",
       "      <th>datePublished</th>\n",
       "      <th>food_img_url</th>\n",
       "      <th>ingredient</th>\n",
       "      <th>reviews</th>\n",
       "      <th>photo_reviews</th>\n",
       "      <th>comments</th>\n",
       "    </tr>\n",
       "  </thead>\n",
       "  <tbody>\n",
       "    <tr>\n",
       "      <th>64919</th>\n",
       "      <td>6994256</td>\n",
       "      <td>[유아식]양배추어묵전 만들기</td>\n",
       "      <td>양배추어묵전</td>\n",
       "      <td>68314373</td>\n",
       "      <td>아가맘</td>\n",
       "      <td>부침</td>\n",
       "      <td>일상</td>\n",
       "      <td>밑반찬</td>\n",
       "      <td>30분이내</td>\n",
       "      <td>아무나</td>\n",
       "      <td>https://www.10000recipe.com/recipe/6994256</td>\n",
       "      <td>2인분</td>\n",
       "      <td>20221224233609</td>\n",
       "      <td>https://recipe1.ezmember.co.kr/cache/recipe/20...</td>\n",
       "      <td>{'재료': [{'name': '사각어묵', 'amount': '1장'}, {'na...</td>\n",
       "      <td>0</td>\n",
       "      <td>0</td>\n",
       "      <td>0</td>\n",
       "    </tr>\n",
       "    <tr>\n",
       "      <th>77046</th>\n",
       "      <td>1974657</td>\n",
       "      <td>시원하고 매콤한 가지 고추냉국</td>\n",
       "      <td>가지고추냉국</td>\n",
       "      <td>cggirl1004</td>\n",
       "      <td>카푸치노</td>\n",
       "      <td>끓이기</td>\n",
       "      <td>일상</td>\n",
       "      <td>국/탕</td>\n",
       "      <td>15분이내</td>\n",
       "      <td>초급</td>\n",
       "      <td>https://www.10000recipe.com/recipe/1974657</td>\n",
       "      <td>2인분</td>\n",
       "      <td>20100710123800</td>\n",
       "      <td>https://recipe1.ezmember.co.kr/cache/recipe/20...</td>\n",
       "      <td>{'재료': [{'name': '가지', 'amount': '2개'}, {'name...</td>\n",
       "      <td>0</td>\n",
       "      <td>0</td>\n",
       "      <td>1</td>\n",
       "    </tr>\n",
       "    <tr>\n",
       "      <th>102158</th>\n",
       "      <td>6901142</td>\n",
       "      <td>고추장아찌 무침  절임고추 무침  삭힌고추 무침</td>\n",
       "      <td>고추장아찌무침</td>\n",
       "      <td>hancy002</td>\n",
       "      <td>hancy002</td>\n",
       "      <td>무침</td>\n",
       "      <td>일상</td>\n",
       "      <td>밑반찬</td>\n",
       "      <td>15분이내</td>\n",
       "      <td>아무나</td>\n",
       "      <td>https://www.10000recipe.com/recipe/6901142</td>\n",
       "      <td>6인분이상</td>\n",
       "      <td>20181202183712</td>\n",
       "      <td>https://recipe1.ezmember.co.kr/cache/recipe/20...</td>\n",
       "      <td>{'재료': [{'name': '삭힌 고추', 'amount': '30~40개 (고...</td>\n",
       "      <td>9</td>\n",
       "      <td>3</td>\n",
       "      <td>1</td>\n",
       "    </tr>\n",
       "    <tr>\n",
       "      <th>9960</th>\n",
       "      <td>6938593</td>\n",
       "      <td>돼지갈비강정~ 갈비 더이상 찜으로만 드시지말고  맛있게 튀겨 보세요^^</td>\n",
       "      <td>돼지갈비강정</td>\n",
       "      <td>homelover</td>\n",
       "      <td>홈러버</td>\n",
       "      <td>튀김</td>\n",
       "      <td>일상</td>\n",
       "      <td>메인반찬</td>\n",
       "      <td>60분이내</td>\n",
       "      <td>초급</td>\n",
       "      <td>https://www.10000recipe.com/recipe/6938593</td>\n",
       "      <td>4인분</td>\n",
       "      <td>20200807125649</td>\n",
       "      <td>https://recipe1.ezmember.co.kr/cache/recipe/20...</td>\n",
       "      <td>{'재료': [{'name': '돼지갈비', 'amount': '600g'}, {'...</td>\n",
       "      <td>0</td>\n",
       "      <td>0</td>\n",
       "      <td>0</td>\n",
       "    </tr>\n",
       "    <tr>\n",
       "      <th>181069</th>\n",
       "      <td>6956196</td>\n",
       "      <td>양배추김치</td>\n",
       "      <td>양배추김치</td>\n",
       "      <td>cherimoya</td>\n",
       "      <td>체리모야</td>\n",
       "      <td>무침</td>\n",
       "      <td>일상</td>\n",
       "      <td>밑반찬</td>\n",
       "      <td>30분이내</td>\n",
       "      <td>초급</td>\n",
       "      <td>https://www.10000recipe.com/recipe/6956196</td>\n",
       "      <td>2인분</td>\n",
       "      <td>20210402214710</td>\n",
       "      <td>https://recipe1.ezmember.co.kr/cache/recipe/20...</td>\n",
       "      <td>{'재료': [{'name': '양배추', 'amount': '200g'}, {'n...</td>\n",
       "      <td>0</td>\n",
       "      <td>0</td>\n",
       "      <td>0</td>\n",
       "    </tr>\n",
       "  </tbody>\n",
       "</table>\n",
       "</div>"
      ],
      "text/plain": [
       "        recipe_id                             recipe_title recipe_name  \\\n",
       "64919     6994256                          [유아식]양배추어묵전 만들기      양배추어묵전   \n",
       "77046     1974657                         시원하고 매콤한 가지 고추냉국      가지고추냉국   \n",
       "102158    6901142               고추장아찌 무침  절임고추 무침  삭힌고추 무침     고추장아찌무침   \n",
       "9960      6938593  돼지갈비강정~ 갈비 더이상 찜으로만 드시지말고  맛있게 튀겨 보세요^^      돼지갈비강정   \n",
       "181069    6956196                                    양배추김치       양배추김치   \n",
       "\n",
       "         author_id author_name recipe_method recipe_status recipe_kind  \\\n",
       "64919     68314373         아가맘            부침            일상         밑반찬   \n",
       "77046   cggirl1004        카푸치노           끓이기            일상         국/탕   \n",
       "102158    hancy002    hancy002            무침            일상         밑반찬   \n",
       "9960     homelover         홈러버            튀김            일상        메인반찬   \n",
       "181069   cherimoya        체리모야            무침            일상         밑반찬   \n",
       "\n",
       "       time_taken difficulty                                  recipe_url  \\\n",
       "64919       30분이내        아무나  https://www.10000recipe.com/recipe/6994256   \n",
       "77046       15분이내         초급  https://www.10000recipe.com/recipe/1974657   \n",
       "102158      15분이내        아무나  https://www.10000recipe.com/recipe/6901142   \n",
       "9960        60분이내         초급  https://www.10000recipe.com/recipe/6938593   \n",
       "181069      30분이내         초급  https://www.10000recipe.com/recipe/6956196   \n",
       "\n",
       "       portion   datePublished  \\\n",
       "64919      2인분  20221224233609   \n",
       "77046      2인분  20100710123800   \n",
       "102158   6인분이상  20181202183712   \n",
       "9960       4인분  20200807125649   \n",
       "181069     2인분  20210402214710   \n",
       "\n",
       "                                             food_img_url  \\\n",
       "64919   https://recipe1.ezmember.co.kr/cache/recipe/20...   \n",
       "77046   https://recipe1.ezmember.co.kr/cache/recipe/20...   \n",
       "102158  https://recipe1.ezmember.co.kr/cache/recipe/20...   \n",
       "9960    https://recipe1.ezmember.co.kr/cache/recipe/20...   \n",
       "181069  https://recipe1.ezmember.co.kr/cache/recipe/20...   \n",
       "\n",
       "                                               ingredient  reviews  \\\n",
       "64919   {'재료': [{'name': '사각어묵', 'amount': '1장'}, {'na...        0   \n",
       "77046   {'재료': [{'name': '가지', 'amount': '2개'}, {'name...        0   \n",
       "102158  {'재료': [{'name': '삭힌 고추', 'amount': '30~40개 (고...        9   \n",
       "9960    {'재료': [{'name': '돼지갈비', 'amount': '600g'}, {'...        0   \n",
       "181069  {'재료': [{'name': '양배추', 'amount': '200g'}, {'n...        0   \n",
       "\n",
       "        photo_reviews  comments  \n",
       "64919               0         0  \n",
       "77046               0         1  \n",
       "102158              3         1  \n",
       "9960                0         0  \n",
       "181069              0         0  "
      ]
     },
     "execution_count": 2,
     "metadata": {},
     "output_type": "execute_result"
    }
   ],
   "source": [
    "recipe_df = pd.read_csv('/dev/shm/notebooks/recipe-context/merged_recipes.csv', on_bad_lines='skip')\n",
    "print(recipe_df.shape)\n",
    "recipe_df.sample(5)"
   ]
  },
  {
   "cell_type": "code",
   "execution_count": 3,
   "metadata": {},
   "outputs": [
    {
     "data": {
      "text/plain": [
       "0.0006476206522540357"
      ]
     },
     "execution_count": 3,
     "metadata": {},
     "output_type": "execute_result"
    }
   ],
   "source": [
    "# nan 거의 없음\n",
    "recipe_df.recipe_name.isna().sum()/recipe_df.recipe_name.shape[0]"
   ]
  },
  {
   "cell_type": "code",
   "execution_count": 4,
   "metadata": {},
   "outputs": [
    {
     "data": {
      "text/plain": [
       "189803"
      ]
     },
     "execution_count": 4,
     "metadata": {},
     "output_type": "execute_result"
    }
   ],
   "source": [
    "recipe_names = recipe_df.recipe_name.dropna().values.tolist()\n",
    "len(recipe_names)"
   ]
  },
  {
   "cell_type": "code",
   "execution_count": 5,
   "metadata": {},
   "outputs": [],
   "source": [
    "recipe_names = recipe_names[:200]"
   ]
  },
  {
   "cell_type": "markdown",
   "metadata": {},
   "source": [
    "변환"
   ]
  },
  {
   "cell_type": "code",
   "execution_count": 6,
   "metadata": {},
   "outputs": [],
   "source": [
    "# 한국어 BERT 사전 훈련된 모델 로드\n",
    "tokenizer = BertTokenizer.from_pretrained('klue/bert-base')\n",
    "model = BertModel.from_pretrained('klue/bert-base')"
   ]
  },
  {
   "cell_type": "code",
   "execution_count": 7,
   "metadata": {},
   "outputs": [],
   "source": [
    "# 텍스트를 토큰화하고 BERT 입력 형식에 맞게 변환\n",
    "inputs = tokenizer(recipe_names, return_tensors=\"pt\", padding=True, truncation=True, max_length=512)\n",
    "\n",
    "# BERT 모델을 통해 텍스트 인코딩\n",
    "with torch.no_grad():\n",
    "    outputs = model(**inputs)\n",
    "\n",
    "# 마지막 은닉층의 특징 벡터를 추출\n",
    "last_hidden_states = outputs.last_hidden_state\n",
    "\n",
    "# 첫 번째 토큰([CLS] 토큰)의 은닉 상태를 문장의 임베딩으로 사용\n",
    "sentence_embedding = last_hidden_states[:, 0, :]"
   ]
  },
  {
   "cell_type": "code",
   "execution_count": 8,
   "metadata": {},
   "outputs": [
    {
     "data": {
      "text/plain": [
       "torch.Size([200, 768])"
      ]
     },
     "execution_count": 8,
     "metadata": {},
     "output_type": "execute_result"
    }
   ],
   "source": [
    "sentence_embedding.shape"
   ]
  },
  {
   "cell_type": "markdown",
   "metadata": {},
   "source": [
    "faiss"
   ]
  },
  {
   "cell_type": "code",
   "execution_count": 10,
   "metadata": {},
   "outputs": [],
   "source": [
    "import numpy as np\n",
    "d = 64                           # dimension\n",
    "nb = 100000                      # database size\n",
    "nq = 10000                       # nb of queries\n",
    "np.random.seed(1234)             # make reproducible\n",
    "xb = np.random.random((nb, d)).astype('float32')\n",
    "xb[:, 0] += np.arange(nb) / 1000.\n",
    "xq = np.random.random((nq, d)).astype('float32')\n",
    "xq[:, 0] += np.arange(nq) / 1000."
   ]
  },
  {
   "cell_type": "code",
   "execution_count": 11,
   "metadata": {},
   "outputs": [
    {
     "name": "stdout",
     "output_type": "stream",
     "text": [
      "True\n",
      "100000\n"
     ]
    }
   ],
   "source": [
    "import faiss                   # make faiss available\n",
    "index = faiss.IndexFlatL2(d)   # build the index\n",
    "print(index.is_trained)\n",
    "index.add(xb)                  # add vectors to the index\n",
    "print(index.ntotal)"
   ]
  },
  {
   "cell_type": "code",
   "execution_count": 12,
   "metadata": {},
   "outputs": [
    {
     "name": "stdout",
     "output_type": "stream",
     "text": [
      "[[  0 393 363  78]\n",
      " [  1 555 277 364]\n",
      " [  2 304 101  13]\n",
      " [  3 173  18 182]\n",
      " [  4 288 370 531]]\n",
      "[[0.        7.175174  7.2076287 7.251163 ]\n",
      " [0.        6.323565  6.684582  6.799944 ]\n",
      " [0.        5.7964087 6.3917365 7.2815127]\n",
      " [0.        7.277905  7.5279875 7.6628447]\n",
      " [0.        6.763804  7.295122  7.368814 ]]\n"
     ]
    }
   ],
   "source": [
    "k = 4                          # we want to see 4 nearest neighbors\n",
    "D, I = index.search(xb[:5], k) # sanity check\n",
    "print(I)\n",
    "print(D)\n",
    "D, I = index.search(xq, k)     # actual search\n",
    "print(I[:5])                   # neighbors of the 5 first queries\n",
    "print(I[-5:])                  # neighbors of the 5 last queries"
   ]
  },
  {
   "cell_type": "code",
   "execution_count": null,
   "metadata": {},
   "outputs": [],
   "source": []
  }
 ],
 "metadata": {
  "kernelspec": {
   "display_name": "airflow",
   "language": "python",
   "name": "python3"
  },
  "language_info": {
   "codemirror_mode": {
    "name": "ipython",
    "version": 3
   },
   "file_extension": ".py",
   "mimetype": "text/x-python",
   "name": "python",
   "nbconvert_exporter": "python",
   "pygments_lexer": "ipython3",
   "version": "3.10.13"
  }
 },
 "nbformat": 4,
 "nbformat_minor": 2
}
