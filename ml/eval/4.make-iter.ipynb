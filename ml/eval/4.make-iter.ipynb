{
 "cells": [
  {
   "cell_type": "markdown",
   "metadata": {},
   "source": [
    "# split 된 파일을 Recbole interaction으로 변환하기"
   ]
  },
  {
   "cell_type": "code",
   "execution_count": 1,
   "metadata": {},
   "outputs": [],
   "source": [
    "import os\n",
    "from datetime import datetime as dt\n",
    "\n",
    "import numpy as np\n",
    "import pandas as pd\n",
    "from tqdm import tqdm"
   ]
  },
  {
   "cell_type": "code",
   "execution_count": 2,
   "metadata": {},
   "outputs": [],
   "source": [
    "data_dir = '/dev/shm/data/4.split-by-user'"
   ]
  },
  {
   "cell_type": "code",
   "execution_count": 3,
   "metadata": {},
   "outputs": [
    {
     "name": "stdout",
     "output_type": "stream",
     "text": [
      "train_df shape:  (213757, 4)\n"
     ]
    },
    {
     "data": {
      "text/html": [
       "<div>\n",
       "<style scoped>\n",
       "    .dataframe tbody tr th:only-of-type {\n",
       "        vertical-align: middle;\n",
       "    }\n",
       "\n",
       "    .dataframe tbody tr th {\n",
       "        vertical-align: top;\n",
       "    }\n",
       "\n",
       "    .dataframe thead th {\n",
       "        text-align: right;\n",
       "    }\n",
       "</style>\n",
       "<table border=\"1\" class=\"dataframe\">\n",
       "  <thead>\n",
       "    <tr style=\"text-align: right;\">\n",
       "      <th></th>\n",
       "      <th>uid</th>\n",
       "      <th>recipe_sno</th>\n",
       "      <th>rating</th>\n",
       "      <th>datetime</th>\n",
       "    </tr>\n",
       "  </thead>\n",
       "  <tbody>\n",
       "    <tr>\n",
       "      <th>135368</th>\n",
       "      <td>73629196</td>\n",
       "      <td>6866734</td>\n",
       "      <td>5.0</td>\n",
       "      <td>2019-03-10 11:43</td>\n",
       "    </tr>\n",
       "    <tr>\n",
       "      <th>191771</th>\n",
       "      <td>chiy1101</td>\n",
       "      <td>6852934</td>\n",
       "      <td>5.0</td>\n",
       "      <td>2016-08-22 23:28</td>\n",
       "    </tr>\n",
       "    <tr>\n",
       "      <th>93492</th>\n",
       "      <td>52648451</td>\n",
       "      <td>6873244</td>\n",
       "      <td>5.0</td>\n",
       "      <td>2020-05-24 20:17</td>\n",
       "    </tr>\n",
       "    <tr>\n",
       "      <th>68339</th>\n",
       "      <td>40154159</td>\n",
       "      <td>6851272</td>\n",
       "      <td>5.0</td>\n",
       "      <td>2017-06-09 16:11</td>\n",
       "    </tr>\n",
       "    <tr>\n",
       "      <th>20726</th>\n",
       "      <td>19888774</td>\n",
       "      <td>6874866</td>\n",
       "      <td>5.0</td>\n",
       "      <td>2019-05-29 11:14</td>\n",
       "    </tr>\n",
       "  </tbody>\n",
       "</table>\n",
       "</div>"
      ],
      "text/plain": [
       "             uid  recipe_sno  rating          datetime\n",
       "135368  73629196     6866734     5.0  2019-03-10 11:43\n",
       "191771  chiy1101     6852934     5.0  2016-08-22 23:28\n",
       "93492   52648451     6873244     5.0  2020-05-24 20:17\n",
       "68339   40154159     6851272     5.0  2017-06-09 16:11\n",
       "20726   19888774     6874866     5.0  2019-05-29 11:14"
      ]
     },
     "execution_count": 3,
     "metadata": {},
     "output_type": "execute_result"
    }
   ],
   "source": [
    "train_df = pd.read_csv(os.path.join(data_dir, 'train-data-over-5-240321.csv'))\n",
    "print('train_df shape: ', train_df.shape)\n",
    "train_df.sample(5)"
   ]
  },
  {
   "cell_type": "code",
   "execution_count": 4,
   "metadata": {},
   "outputs": [
    {
     "name": "stdout",
     "output_type": "stream",
     "text": [
      "test_df shape:  (63090, 4)\n"
     ]
    },
    {
     "data": {
      "text/html": [
       "<div>\n",
       "<style scoped>\n",
       "    .dataframe tbody tr th:only-of-type {\n",
       "        vertical-align: middle;\n",
       "    }\n",
       "\n",
       "    .dataframe tbody tr th {\n",
       "        vertical-align: top;\n",
       "    }\n",
       "\n",
       "    .dataframe thead th {\n",
       "        text-align: right;\n",
       "    }\n",
       "</style>\n",
       "<table border=\"1\" class=\"dataframe\">\n",
       "  <thead>\n",
       "    <tr style=\"text-align: right;\">\n",
       "      <th></th>\n",
       "      <th>uid</th>\n",
       "      <th>recipe_sno</th>\n",
       "      <th>rating</th>\n",
       "      <th>datetime</th>\n",
       "    </tr>\n",
       "  </thead>\n",
       "  <tbody>\n",
       "    <tr>\n",
       "      <th>19459</th>\n",
       "      <td>39315509</td>\n",
       "      <td>6928594</td>\n",
       "      <td>5.0</td>\n",
       "      <td>2023-01-21 18:20</td>\n",
       "    </tr>\n",
       "    <tr>\n",
       "      <th>44916</th>\n",
       "      <td>80735651</td>\n",
       "      <td>2800483</td>\n",
       "      <td>5.0</td>\n",
       "      <td>2022-04-09 18:29</td>\n",
       "    </tr>\n",
       "    <tr>\n",
       "      <th>23364</th>\n",
       "      <td>45543474</td>\n",
       "      <td>6842258</td>\n",
       "      <td>5.0</td>\n",
       "      <td>2016-04-22 10:08</td>\n",
       "    </tr>\n",
       "    <tr>\n",
       "      <th>53443</th>\n",
       "      <td>94762408</td>\n",
       "      <td>6948608</td>\n",
       "      <td>5.0</td>\n",
       "      <td>2024-01-27 02:08</td>\n",
       "    </tr>\n",
       "    <tr>\n",
       "      <th>45174</th>\n",
       "      <td>80802273</td>\n",
       "      <td>6971235</td>\n",
       "      <td>NaN</td>\n",
       "      <td>NaN</td>\n",
       "    </tr>\n",
       "  </tbody>\n",
       "</table>\n",
       "</div>"
      ],
      "text/plain": [
       "            uid  recipe_sno  rating          datetime\n",
       "19459  39315509     6928594     5.0  2023-01-21 18:20\n",
       "44916  80735651     2800483     5.0  2022-04-09 18:29\n",
       "23364  45543474     6842258     5.0  2016-04-22 10:08\n",
       "53443  94762408     6948608     5.0  2024-01-27 02:08\n",
       "45174  80802273     6971235     NaN               NaN"
      ]
     },
     "execution_count": 4,
     "metadata": {},
     "output_type": "execute_result"
    }
   ],
   "source": [
    "test_df = pd.read_csv(os.path.join(data_dir, 'test-data-over-5-240321.csv'))\n",
    "print('test_df shape: ', test_df.shape)\n",
    "test_df.sample(5)"
   ]
  },
  {
   "cell_type": "code",
   "execution_count": null,
   "metadata": {},
   "outputs": [],
   "source": []
  }
 ],
 "metadata": {
  "kernelspec": {
   "display_name": "airflow",
   "language": "python",
   "name": "python3"
  },
  "language_info": {
   "codemirror_mode": {
    "name": "ipython",
    "version": 3
   },
   "file_extension": ".py",
   "mimetype": "text/x-python",
   "name": "python",
   "nbconvert_exporter": "python",
   "pygments_lexer": "ipython3",
   "version": "3.10.13"
  }
 },
 "nbformat": 4,
 "nbformat_minor": 2
}
