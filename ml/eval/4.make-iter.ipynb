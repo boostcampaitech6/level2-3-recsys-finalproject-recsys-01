{
 "cells": [
  {
   "cell_type": "markdown",
   "metadata": {},
   "source": [
    "# split 된 파일을 Recbole interaction으로 변환하기"
   ]
  },
  {
   "cell_type": "code",
   "execution_count": 1,
   "metadata": {},
   "outputs": [],
   "source": [
    "import os\n",
    "from datetime import datetime as dt\n",
    "\n",
    "import numpy as np\n",
    "import pandas as pd\n",
    "from tqdm import tqdm"
   ]
  },
  {
   "cell_type": "code",
   "execution_count": 2,
   "metadata": {},
   "outputs": [],
   "source": [
    "data_dir = '/dev/shm/data/3.preprocessed'"
   ]
  },
  {
   "cell_type": "code",
   "execution_count": 3,
   "metadata": {},
   "outputs": [
    {
     "name": "stdout",
     "output_type": "stream",
     "text": [
      "train_df shape:  (276847, 4)\n"
     ]
    },
    {
     "data": {
      "text/html": [
       "<div>\n",
       "<style scoped>\n",
       "    .dataframe tbody tr th:only-of-type {\n",
       "        vertical-align: middle;\n",
       "    }\n",
       "\n",
       "    .dataframe tbody tr th {\n",
       "        vertical-align: top;\n",
       "    }\n",
       "\n",
       "    .dataframe thead th {\n",
       "        text-align: right;\n",
       "    }\n",
       "</style>\n",
       "<table border=\"1\" class=\"dataframe\">\n",
       "  <thead>\n",
       "    <tr style=\"text-align: right;\">\n",
       "      <th></th>\n",
       "      <th>uid</th>\n",
       "      <th>recipe_sno</th>\n",
       "      <th>rating</th>\n",
       "      <th>datetime</th>\n",
       "    </tr>\n",
       "  </thead>\n",
       "  <tbody>\n",
       "    <tr>\n",
       "      <th>239004</th>\n",
       "      <td>19831374</td>\n",
       "      <td>6862680</td>\n",
       "      <td>5.0</td>\n",
       "      <td>2017-04-04 06:06</td>\n",
       "    </tr>\n",
       "    <tr>\n",
       "      <th>146787</th>\n",
       "      <td>75997033</td>\n",
       "      <td>6837870</td>\n",
       "      <td>5.0</td>\n",
       "      <td>2016-01-16 01:13</td>\n",
       "    </tr>\n",
       "    <tr>\n",
       "      <th>76025</th>\n",
       "      <td>19572058</td>\n",
       "      <td>6866483</td>\n",
       "      <td>5.0</td>\n",
       "      <td>2023-12-24 19:59</td>\n",
       "    </tr>\n",
       "    <tr>\n",
       "      <th>51968</th>\n",
       "      <td>58491660</td>\n",
       "      <td>6834238</td>\n",
       "      <td>3.0</td>\n",
       "      <td>2015-12-03 09:31</td>\n",
       "    </tr>\n",
       "    <tr>\n",
       "      <th>98090</th>\n",
       "      <td>92219780</td>\n",
       "      <td>6844127</td>\n",
       "      <td>5.0</td>\n",
       "      <td>2017-04-11 03:25</td>\n",
       "    </tr>\n",
       "  </tbody>\n",
       "</table>\n",
       "</div>"
      ],
      "text/plain": [
       "             uid  recipe_sno  rating          datetime\n",
       "239004  19831374     6862680     5.0  2017-04-04 06:06\n",
       "146787  75997033     6837870     5.0  2016-01-16 01:13\n",
       "76025   19572058     6866483     5.0  2023-12-24 19:59\n",
       "51968   58491660     6834238     3.0  2015-12-03 09:31\n",
       "98090   92219780     6844127     5.0  2017-04-11 03:25"
      ]
     },
     "execution_count": 3,
     "metadata": {},
     "output_type": "execute_result"
    }
   ],
   "source": [
    "df = pd.read_csv(os.path.join(data_dir, 'merged-data-over-5-240321.csv'))\n",
    "print('train_df shape: ', df.shape)\n",
    "df.sample(5)"
   ]
  },
  {
   "cell_type": "code",
   "execution_count": 4,
   "metadata": {},
   "outputs": [
    {
     "data": {
      "text/html": [
       "<div>\n",
       "<style scoped>\n",
       "    .dataframe tbody tr th:only-of-type {\n",
       "        vertical-align: middle;\n",
       "    }\n",
       "\n",
       "    .dataframe tbody tr th {\n",
       "        vertical-align: top;\n",
       "    }\n",
       "\n",
       "    .dataframe thead th {\n",
       "        text-align: right;\n",
       "    }\n",
       "</style>\n",
       "<table border=\"1\" class=\"dataframe\">\n",
       "  <thead>\n",
       "    <tr style=\"text-align: right;\">\n",
       "      <th></th>\n",
       "      <th>uid</th>\n",
       "      <th>recipe_sno</th>\n",
       "      <th>rating</th>\n",
       "      <th>datetime</th>\n",
       "    </tr>\n",
       "  </thead>\n",
       "  <tbody>\n",
       "    <tr>\n",
       "      <th>53691</th>\n",
       "      <td>61440273</td>\n",
       "      <td>6883990</td>\n",
       "      <td>5.0</td>\n",
       "      <td>2020-02-09 19:59</td>\n",
       "    </tr>\n",
       "    <tr>\n",
       "      <th>68528</th>\n",
       "      <td>69367549</td>\n",
       "      <td>6839837</td>\n",
       "      <td>5.0</td>\n",
       "      <td>2017-05-23 19:31</td>\n",
       "    </tr>\n",
       "    <tr>\n",
       "      <th>220028</th>\n",
       "      <td>88015859</td>\n",
       "      <td>6864234</td>\n",
       "      <td>4.0</td>\n",
       "      <td>2018-11-21 02:04</td>\n",
       "    </tr>\n",
       "    <tr>\n",
       "      <th>276400</th>\n",
       "      <td>15333309</td>\n",
       "      <td>6922749</td>\n",
       "      <td>5.0</td>\n",
       "      <td>2023-12-13 21:48</td>\n",
       "    </tr>\n",
       "    <tr>\n",
       "      <th>178640</th>\n",
       "      <td>39765052</td>\n",
       "      <td>6894679</td>\n",
       "      <td>5.0</td>\n",
       "      <td>2022-06-28 18:09</td>\n",
       "    </tr>\n",
       "  </tbody>\n",
       "</table>\n",
       "</div>"
      ],
      "text/plain": [
       "             uid  recipe_sno  rating          datetime\n",
       "53691   61440273     6883990     5.0  2020-02-09 19:59\n",
       "68528   69367549     6839837     5.0  2017-05-23 19:31\n",
       "220028  88015859     6864234     4.0  2018-11-21 02:04\n",
       "276400  15333309     6922749     5.0  2023-12-13 21:48\n",
       "178640  39765052     6894679     5.0  2022-06-28 18:09"
      ]
     },
     "execution_count": 4,
     "metadata": {},
     "output_type": "execute_result"
    }
   ],
   "source": [
    "# sort by uid, datetime\n",
    "df = df.sort_values(by=['uid', 'datetime'], na_position='first')\n",
    "df.sample(5)"
   ]
  },
  {
   "cell_type": "code",
   "execution_count": 5,
   "metadata": {},
   "outputs": [],
   "source": [
    "df['timestamp'] = pd.to_datetime(df.datetime).astype(int)/10**9"
   ]
  },
  {
   "cell_type": "code",
   "execution_count": 6,
   "metadata": {},
   "outputs": [
    {
     "data": {
      "text/html": [
       "<div>\n",
       "<style scoped>\n",
       "    .dataframe tbody tr th:only-of-type {\n",
       "        vertical-align: middle;\n",
       "    }\n",
       "\n",
       "    .dataframe tbody tr th {\n",
       "        vertical-align: top;\n",
       "    }\n",
       "\n",
       "    .dataframe thead th {\n",
       "        text-align: right;\n",
       "    }\n",
       "</style>\n",
       "<table border=\"1\" class=\"dataframe\">\n",
       "  <thead>\n",
       "    <tr style=\"text-align: right;\">\n",
       "      <th></th>\n",
       "      <th>user_id:token</th>\n",
       "      <th>item_id:token</th>\n",
       "      <th>timestamp:float</th>\n",
       "    </tr>\n",
       "  </thead>\n",
       "  <tbody>\n",
       "    <tr>\n",
       "      <th>240220</th>\n",
       "      <td>00700070</td>\n",
       "      <td>6856432</td>\n",
       "      <td>1.503859e+09</td>\n",
       "    </tr>\n",
       "    <tr>\n",
       "      <th>240219</th>\n",
       "      <td>00700070</td>\n",
       "      <td>6885928</td>\n",
       "      <td>1.534357e+09</td>\n",
       "    </tr>\n",
       "    <tr>\n",
       "      <th>240218</th>\n",
       "      <td>00700070</td>\n",
       "      <td>6886836</td>\n",
       "      <td>1.546958e+09</td>\n",
       "    </tr>\n",
       "    <tr>\n",
       "      <th>240217</th>\n",
       "      <td>00700070</td>\n",
       "      <td>6892249</td>\n",
       "      <td>1.548445e+09</td>\n",
       "    </tr>\n",
       "    <tr>\n",
       "      <th>240216</th>\n",
       "      <td>00700070</td>\n",
       "      <td>6849655</td>\n",
       "      <td>1.549552e+09</td>\n",
       "    </tr>\n",
       "  </tbody>\n",
       "</table>\n",
       "</div>"
      ],
      "text/plain": [
       "       user_id:token  item_id:token  timestamp:float\n",
       "240220      00700070        6856432     1.503859e+09\n",
       "240219      00700070        6885928     1.534357e+09\n",
       "240218      00700070        6886836     1.546958e+09\n",
       "240217      00700070        6892249     1.548445e+09\n",
       "240216      00700070        6849655     1.549552e+09"
      ]
     },
     "execution_count": 6,
     "metadata": {},
     "output_type": "execute_result"
    }
   ],
   "source": [
    "# df = df[['uid', 'recipe_sno', 'rating', 'datetime']]\n",
    "# df.columns = ['user_id:token', 'item_id:token', 'rating:float', 'timestamp:float']\n",
    "# df.head()\n",
    "\n",
    "df = df[['uid', 'recipe_sno', 'timestamp']]\n",
    "df.columns = ['user_id:token', 'item_id:token', 'timestamp:float']\n",
    "df.head()"
   ]
  },
  {
   "cell_type": "code",
   "execution_count": 7,
   "metadata": {},
   "outputs": [],
   "source": [
    "df.to_csv('/dev/shm/data/BasketRecommendation/BasketRecommendation.inter', index=False, sep='\\t')"
   ]
  }
 ],
 "metadata": {
  "kernelspec": {
   "display_name": "airflow",
   "language": "python",
   "name": "python3"
  },
  "language_info": {
   "codemirror_mode": {
    "name": "ipython",
    "version": 3
   },
   "file_extension": ".py",
   "mimetype": "text/x-python",
   "name": "python",
   "nbconvert_exporter": "python",
   "pygments_lexer": "ipython3",
   "version": "3.10.13"
  }
 },
 "nbformat": 4,
 "nbformat_minor": 2
}
