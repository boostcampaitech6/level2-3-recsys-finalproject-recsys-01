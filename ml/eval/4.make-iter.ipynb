{
 "cells": [
  {
   "cell_type": "markdown",
   "metadata": {},
   "source": [
    "# split 된 파일을 Recbole interaction으로 변환하기"
   ]
  },
  {
   "cell_type": "code",
   "execution_count": 1,
   "metadata": {},
   "outputs": [],
   "source": [
    "import os\n",
    "from datetime import datetime as dt\n",
    "\n",
    "import numpy as np\n",
    "import pandas as pd\n",
    "from tqdm import tqdm"
   ]
  },
  {
   "cell_type": "code",
   "execution_count": 2,
   "metadata": {},
   "outputs": [],
   "source": [
    "data_dir = '/dev/shm/data/3.preprocessed'"
   ]
  },
  {
   "cell_type": "code",
   "execution_count": 3,
   "metadata": {},
   "outputs": [
    {
     "name": "stdout",
     "output_type": "stream",
     "text": [
      "train_df shape:  (244773, 4)\n"
     ]
    },
    {
     "data": {
      "text/html": [
       "<div>\n",
       "<style scoped>\n",
       "    .dataframe tbody tr th:only-of-type {\n",
       "        vertical-align: middle;\n",
       "    }\n",
       "\n",
       "    .dataframe tbody tr th {\n",
       "        vertical-align: top;\n",
       "    }\n",
       "\n",
       "    .dataframe thead th {\n",
       "        text-align: right;\n",
       "    }\n",
       "</style>\n",
       "<table border=\"1\" class=\"dataframe\">\n",
       "  <thead>\n",
       "    <tr style=\"text-align: right;\">\n",
       "      <th></th>\n",
       "      <th>uid</th>\n",
       "      <th>recipe_sno</th>\n",
       "      <th>rating</th>\n",
       "      <th>datetime</th>\n",
       "    </tr>\n",
       "  </thead>\n",
       "  <tbody>\n",
       "    <tr>\n",
       "      <th>190635</th>\n",
       "      <td>60086420</td>\n",
       "      <td>6890715</td>\n",
       "      <td>5</td>\n",
       "      <td>2021-05-09 14:01</td>\n",
       "    </tr>\n",
       "    <tr>\n",
       "      <th>28817</th>\n",
       "      <td>80311425</td>\n",
       "      <td>6856312</td>\n",
       "      <td>4</td>\n",
       "      <td>2016-10-19 21:56</td>\n",
       "    </tr>\n",
       "    <tr>\n",
       "      <th>60648</th>\n",
       "      <td>32128977</td>\n",
       "      <td>4243352</td>\n",
       "      <td>5</td>\n",
       "      <td>2020-07-01 05:59</td>\n",
       "    </tr>\n",
       "    <tr>\n",
       "      <th>213179</th>\n",
       "      <td>61069740</td>\n",
       "      <td>5420128</td>\n",
       "      <td>5</td>\n",
       "      <td>2020-12-28 20:44</td>\n",
       "    </tr>\n",
       "    <tr>\n",
       "      <th>74041</th>\n",
       "      <td>heart2008</td>\n",
       "      <td>6899335</td>\n",
       "      <td>5</td>\n",
       "      <td>2020-06-30 16:59</td>\n",
       "    </tr>\n",
       "  </tbody>\n",
       "</table>\n",
       "</div>"
      ],
      "text/plain": [
       "              uid  recipe_sno  rating          datetime\n",
       "190635   60086420     6890715       5  2021-05-09 14:01\n",
       "28817    80311425     6856312       4  2016-10-19 21:56\n",
       "60648    32128977     4243352       5  2020-07-01 05:59\n",
       "213179   61069740     5420128       5  2020-12-28 20:44\n",
       "74041   heart2008     6899335       5  2020-06-30 16:59"
      ]
     },
     "execution_count": 3,
     "metadata": {},
     "output_type": "execute_result"
    }
   ],
   "source": [
    "df = pd.read_csv(os.path.join(data_dir, 'merged-data-over-5-240325.csv'))\n",
    "print('train_df shape: ', df.shape)\n",
    "df.sample(5)"
   ]
  },
  {
   "cell_type": "code",
   "execution_count": 4,
   "metadata": {},
   "outputs": [
    {
     "data": {
      "text/plain": [
       "(20281, 44588)"
      ]
     },
     "execution_count": 4,
     "metadata": {},
     "output_type": "execute_result"
    }
   ],
   "source": [
    "df['uid'].nunique(), df.recipe_sno.nunique()"
   ]
  },
  {
   "cell_type": "code",
   "execution_count": 5,
   "metadata": {},
   "outputs": [
    {
     "data": {
      "text/html": [
       "<div>\n",
       "<style scoped>\n",
       "    .dataframe tbody tr th:only-of-type {\n",
       "        vertical-align: middle;\n",
       "    }\n",
       "\n",
       "    .dataframe tbody tr th {\n",
       "        vertical-align: top;\n",
       "    }\n",
       "\n",
       "    .dataframe thead th {\n",
       "        text-align: right;\n",
       "    }\n",
       "</style>\n",
       "<table border=\"1\" class=\"dataframe\">\n",
       "  <thead>\n",
       "    <tr style=\"text-align: right;\">\n",
       "      <th></th>\n",
       "      <th>uid</th>\n",
       "      <th>recipe_sno</th>\n",
       "      <th>rating</th>\n",
       "      <th>datetime</th>\n",
       "    </tr>\n",
       "  </thead>\n",
       "  <tbody>\n",
       "    <tr>\n",
       "      <th>237559</th>\n",
       "      <td>51165612</td>\n",
       "      <td>6858634</td>\n",
       "      <td>3</td>\n",
       "      <td>2016-10-25 11:48</td>\n",
       "    </tr>\n",
       "    <tr>\n",
       "      <th>119544</th>\n",
       "      <td>86576172</td>\n",
       "      <td>6868134</td>\n",
       "      <td>5</td>\n",
       "      <td>2017-06-16 22:31</td>\n",
       "    </tr>\n",
       "    <tr>\n",
       "      <th>140289</th>\n",
       "      <td>18249756</td>\n",
       "      <td>6912220</td>\n",
       "      <td>5</td>\n",
       "      <td>2020-06-14 14:53</td>\n",
       "    </tr>\n",
       "    <tr>\n",
       "      <th>215687</th>\n",
       "      <td>73743440</td>\n",
       "      <td>6833197</td>\n",
       "      <td>5</td>\n",
       "      <td>2019-04-10 21:09</td>\n",
       "    </tr>\n",
       "    <tr>\n",
       "      <th>242417</th>\n",
       "      <td>12258766</td>\n",
       "      <td>6867060</td>\n",
       "      <td>5</td>\n",
       "      <td>2017-04-11 13:28</td>\n",
       "    </tr>\n",
       "  </tbody>\n",
       "</table>\n",
       "</div>"
      ],
      "text/plain": [
       "             uid  recipe_sno  rating          datetime\n",
       "237559  51165612     6858634       3  2016-10-25 11:48\n",
       "119544  86576172     6868134       5  2017-06-16 22:31\n",
       "140289  18249756     6912220       5  2020-06-14 14:53\n",
       "215687  73743440     6833197       5  2019-04-10 21:09\n",
       "242417  12258766     6867060       5  2017-04-11 13:28"
      ]
     },
     "execution_count": 5,
     "metadata": {},
     "output_type": "execute_result"
    }
   ],
   "source": [
    "# sort by uid, datetime\n",
    "df = df.sort_values(by=['uid', 'datetime'], na_position='first')\n",
    "df.sample(5)"
   ]
  },
  {
   "cell_type": "code",
   "execution_count": 6,
   "metadata": {},
   "outputs": [],
   "source": [
    "df['timestamp'] = pd.to_datetime(df.datetime).astype(int)/10**9"
   ]
  },
  {
   "cell_type": "code",
   "execution_count": 7,
   "metadata": {},
   "outputs": [
    {
     "data": {
      "text/html": [
       "<div>\n",
       "<style scoped>\n",
       "    .dataframe tbody tr th:only-of-type {\n",
       "        vertical-align: middle;\n",
       "    }\n",
       "\n",
       "    .dataframe tbody tr th {\n",
       "        vertical-align: top;\n",
       "    }\n",
       "\n",
       "    .dataframe thead th {\n",
       "        text-align: right;\n",
       "    }\n",
       "</style>\n",
       "<table border=\"1\" class=\"dataframe\">\n",
       "  <thead>\n",
       "    <tr style=\"text-align: right;\">\n",
       "      <th></th>\n",
       "      <th>user_id:token</th>\n",
       "      <th>item_id:token</th>\n",
       "      <th>timestamp:float</th>\n",
       "    </tr>\n",
       "  </thead>\n",
       "  <tbody>\n",
       "    <tr>\n",
       "      <th>208259</th>\n",
       "      <td>00700070</td>\n",
       "      <td>6856432</td>\n",
       "      <td>1.503859e+09</td>\n",
       "    </tr>\n",
       "    <tr>\n",
       "      <th>208258</th>\n",
       "      <td>00700070</td>\n",
       "      <td>6885928</td>\n",
       "      <td>1.534357e+09</td>\n",
       "    </tr>\n",
       "    <tr>\n",
       "      <th>208257</th>\n",
       "      <td>00700070</td>\n",
       "      <td>6886836</td>\n",
       "      <td>1.546958e+09</td>\n",
       "    </tr>\n",
       "    <tr>\n",
       "      <th>208256</th>\n",
       "      <td>00700070</td>\n",
       "      <td>6892249</td>\n",
       "      <td>1.548445e+09</td>\n",
       "    </tr>\n",
       "    <tr>\n",
       "      <th>208255</th>\n",
       "      <td>00700070</td>\n",
       "      <td>6849655</td>\n",
       "      <td>1.549552e+09</td>\n",
       "    </tr>\n",
       "  </tbody>\n",
       "</table>\n",
       "</div>"
      ],
      "text/plain": [
       "       user_id:token  item_id:token  timestamp:float\n",
       "208259      00700070        6856432     1.503859e+09\n",
       "208258      00700070        6885928     1.534357e+09\n",
       "208257      00700070        6886836     1.546958e+09\n",
       "208256      00700070        6892249     1.548445e+09\n",
       "208255      00700070        6849655     1.549552e+09"
      ]
     },
     "execution_count": 7,
     "metadata": {},
     "output_type": "execute_result"
    }
   ],
   "source": [
    "# df = df[['uid', 'recipe_sno', 'rating', 'datetime']]\n",
    "# df.columns = ['user_id:token', 'item_id:token', 'rating:float', 'timestamp:float']\n",
    "# df.head()\n",
    "\n",
    "df = df[['uid', 'recipe_sno', 'timestamp']]\n",
    "df.columns = ['user_id:token', 'item_id:token', 'timestamp:float']\n",
    "df.head()"
   ]
  },
  {
   "cell_type": "code",
   "execution_count": 8,
   "metadata": {},
   "outputs": [],
   "source": [
    "df.to_csv('/dev/shm/data/BasketRecommendation/BasketRecommendation.inter', index=False, sep='\\t')"
   ]
  }
 ],
 "metadata": {
  "kernelspec": {
   "display_name": "airflow",
   "language": "python",
   "name": "python3"
  },
  "language_info": {
   "codemirror_mode": {
    "name": "ipython",
    "version": 3
   },
   "file_extension": ".py",
   "mimetype": "text/x-python",
   "name": "python",
   "nbconvert_exporter": "python",
   "pygments_lexer": "ipython3",
   "version": "3.10.13"
  }
 },
 "nbformat": 4,
 "nbformat_minor": 2
}
