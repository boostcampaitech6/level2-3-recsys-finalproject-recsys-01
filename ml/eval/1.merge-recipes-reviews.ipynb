{
 "cells": [
  {
   "cell_type": "markdown",
   "metadata": {},
   "source": [
    "# 1. 레시피 정보과 리뷰 정보를 병합하여 저장"
   ]
  },
  {
   "cell_type": "code",
   "execution_count": 1,
   "metadata": {},
   "outputs": [],
   "source": [
    "import os\n",
    "from datetime import datetime as dt\n",
    "\n",
    "import numpy as np\n",
    "import pandas as pd\n",
    "from tqdm import tqdm"
   ]
  },
  {
   "cell_type": "code",
   "execution_count": 2,
   "metadata": {},
   "outputs": [],
   "source": [
    "raw_data_dir = '/dev/shm/data/1.raw'"
   ]
  },
  {
   "cell_type": "code",
   "execution_count": 3,
   "metadata": {},
   "outputs": [
    {
     "data": {
      "text/plain": [
       "((1429, 2), (221928, 5))"
      ]
     },
     "execution_count": 3,
     "metadata": {},
     "output_type": "execute_result"
    }
   ],
   "source": [
    "recipe_df = pd.read_csv(os.path.join(raw_data_dir, 'recipes_full_240313.csv'))\n",
    "review_df = pd.read_csv(os.path.join(raw_data_dir, 'reviews_full_240313.csv'))\n",
    "\n",
    "recipe_df.shape, review_df.shape"
   ]
  },
  {
   "cell_type": "markdown",
   "metadata": {},
   "source": [
    "## 중복 개체 제거"
   ]
  },
  {
   "cell_type": "code",
   "execution_count": 4,
   "metadata": {},
   "outputs": [
    {
     "name": "stdout",
     "output_type": "stream",
     "text": [
      "before drop duplicated users: 221928\n",
      "after drop duplicated users: 128555\n"
     ]
    }
   ],
   "source": [
    "# 유저 중복 제거 - 리뷰\n",
    "print(f'before drop duplicated users: {review_df.shape[0]}')\n",
    "review_df = review_df.drop_duplicates(subset=['uid'])\n",
    "print(f'after drop duplicated users: {review_df.shape[0]}')"
   ]
  },
  {
   "cell_type": "code",
   "execution_count": 5,
   "metadata": {},
   "outputs": [
    {
     "name": "stdout",
     "output_type": "stream",
     "text": [
      "before drop duplicated users: 1429\n",
      "after drop duplicated users: 1429\n"
     ]
    }
   ],
   "source": [
    "# 유저 중복 제거 - 레시피\n",
    "print(f'before drop duplicated users: {recipe_df.shape[0]}')\n",
    "review_df = review_df.drop_duplicates(subset=['uid'])\n",
    "print(f'after drop duplicated users: {recipe_df.shape[0]}')"
   ]
  },
  {
   "cell_type": "markdown",
   "metadata": {},
   "source": [
    "트랜젝션 데이터로 변환\n",
    "\n",
    "uid, user_name, itemid, rating, date"
   ]
  },
  {
   "cell_type": "code",
   "execution_count": 6,
   "metadata": {},
   "outputs": [],
   "source": [
    "# str -> dict\n",
    "review_df['history'] = review_df['history'].apply(eval)\n",
    "recipe_df['recipes'] = recipe_df['recipes'].apply(eval)"
   ]
  },
  {
   "cell_type": "code",
   "execution_count": 7,
   "metadata": {},
   "outputs": [
    {
     "name": "stderr",
     "output_type": "stream",
     "text": [
      "100%|██████████| 128555/128555 [00:08<00:00, 14344.54it/s]\n"
     ]
    }
   ],
   "source": [
    "review_transactions = []\n",
    "\n",
    "for i, row in tqdm(review_df.iterrows(), total=review_df.shape[0]):\n",
    "\tuid = row['uid']\n",
    "\tfor recipe_sno, data in row['history'].items():\n",
    "\t\trating = data['rating']\n",
    "\t\tdatetime = data['datetime']\n",
    "\t\treview_transactions.append([uid, recipe_sno, rating, datetime])\n",
    "\n",
    "review_transaction_df = pd.DataFrame(review_transactions, columns=['uid', 'recipe_sno', 'rating', 'datetime'])"
   ]
  },
  {
   "cell_type": "code",
   "execution_count": 8,
   "metadata": {},
   "outputs": [
    {
     "name": "stderr",
     "output_type": "stream",
     "text": [
      "100%|██████████| 1429/1429 [00:00<00:00, 12992.78it/s]\n"
     ]
    }
   ],
   "source": [
    "recipe_transactions = []\n",
    "\n",
    "for i, row in tqdm(recipe_df.iterrows(), total=recipe_df.shape[0]):\n",
    "\tuid = row['uid']\n",
    "\tfor recipe_sno in row['recipes']:\n",
    "\t\trecipe_transactions.append([uid, recipe_sno])\n",
    "\n",
    "recipe_transaction_df = pd.DataFrame(recipe_transactions, columns=['uid', 'recipe_sno'])"
   ]
  },
  {
   "cell_type": "code",
   "execution_count": 9,
   "metadata": {},
   "outputs": [
    {
     "data": {
      "text/html": [
       "<div>\n",
       "<style scoped>\n",
       "    .dataframe tbody tr th:only-of-type {\n",
       "        vertical-align: middle;\n",
       "    }\n",
       "\n",
       "    .dataframe tbody tr th {\n",
       "        vertical-align: top;\n",
       "    }\n",
       "\n",
       "    .dataframe thead th {\n",
       "        text-align: right;\n",
       "    }\n",
       "</style>\n",
       "<table border=\"1\" class=\"dataframe\">\n",
       "  <thead>\n",
       "    <tr style=\"text-align: right;\">\n",
       "      <th></th>\n",
       "      <th>uid</th>\n",
       "      <th>recipe_sno</th>\n",
       "      <th>rating</th>\n",
       "      <th>datetime</th>\n",
       "    </tr>\n",
       "  </thead>\n",
       "  <tbody>\n",
       "    <tr>\n",
       "      <th>0</th>\n",
       "      <td>gomusin76</td>\n",
       "      <td>6834819</td>\n",
       "      <td>NaN</td>\n",
       "      <td>NaN</td>\n",
       "    </tr>\n",
       "    <tr>\n",
       "      <th>1</th>\n",
       "      <td>gomusin76</td>\n",
       "      <td>6834466</td>\n",
       "      <td>NaN</td>\n",
       "      <td>NaN</td>\n",
       "    </tr>\n",
       "    <tr>\n",
       "      <th>2</th>\n",
       "      <td>gomusin76</td>\n",
       "      <td>6834339</td>\n",
       "      <td>NaN</td>\n",
       "      <td>NaN</td>\n",
       "    </tr>\n",
       "    <tr>\n",
       "      <th>3</th>\n",
       "      <td>gomusin76</td>\n",
       "      <td>6834128</td>\n",
       "      <td>NaN</td>\n",
       "      <td>NaN</td>\n",
       "    </tr>\n",
       "    <tr>\n",
       "      <th>4</th>\n",
       "      <td>gomusin76</td>\n",
       "      <td>6834038</td>\n",
       "      <td>NaN</td>\n",
       "      <td>NaN</td>\n",
       "    </tr>\n",
       "    <tr>\n",
       "      <th>...</th>\n",
       "      <td>...</td>\n",
       "      <td>...</td>\n",
       "      <td>...</td>\n",
       "      <td>...</td>\n",
       "    </tr>\n",
       "    <tr>\n",
       "      <th>418553</th>\n",
       "      <td>72139975</td>\n",
       "      <td>6891816</td>\n",
       "      <td>5.0</td>\n",
       "      <td>2021-09-28 12:28</td>\n",
       "    </tr>\n",
       "    <tr>\n",
       "      <th>418554</th>\n",
       "      <td>77296341</td>\n",
       "      <td>6869801</td>\n",
       "      <td>5.0</td>\n",
       "      <td>2023-08-05 22:28</td>\n",
       "    </tr>\n",
       "    <tr>\n",
       "      <th>418555</th>\n",
       "      <td>25121000</td>\n",
       "      <td>6891816</td>\n",
       "      <td>5.0</td>\n",
       "      <td>2022-11-02 20:15</td>\n",
       "    </tr>\n",
       "    <tr>\n",
       "      <th>418556</th>\n",
       "      <td>38986666</td>\n",
       "      <td>4164229</td>\n",
       "      <td>5.0</td>\n",
       "      <td>2023-11-06 19:35</td>\n",
       "    </tr>\n",
       "    <tr>\n",
       "      <th>418557</th>\n",
       "      <td>41825737</td>\n",
       "      <td>4164229</td>\n",
       "      <td>5.0</td>\n",
       "      <td>2019-01-25 21:43</td>\n",
       "    </tr>\n",
       "  </tbody>\n",
       "</table>\n",
       "<p>436932 rows × 4 columns</p>\n",
       "</div>"
      ],
      "text/plain": [
       "              uid recipe_sno  rating          datetime\n",
       "0       gomusin76    6834819     NaN               NaN\n",
       "1       gomusin76    6834466     NaN               NaN\n",
       "2       gomusin76    6834339     NaN               NaN\n",
       "3       gomusin76    6834128     NaN               NaN\n",
       "4       gomusin76    6834038     NaN               NaN\n",
       "...           ...        ...     ...               ...\n",
       "418553   72139975    6891816     5.0  2021-09-28 12:28\n",
       "418554   77296341    6869801     5.0  2023-08-05 22:28\n",
       "418555   25121000    6891816     5.0  2022-11-02 20:15\n",
       "418556   38986666    4164229     5.0  2023-11-06 19:35\n",
       "418557   41825737    4164229     5.0  2019-01-25 21:43\n",
       "\n",
       "[436932 rows x 4 columns]"
      ]
     },
     "execution_count": 9,
     "metadata": {},
     "output_type": "execute_result"
    }
   ],
   "source": [
    "all_transaction_df = pd.concat([recipe_transaction_df, review_transaction_df], axis=0)\n",
    "all_transaction_df.drop_duplicates()"
   ]
  },
  {
   "cell_type": "code",
   "execution_count": 10,
   "metadata": {},
   "outputs": [],
   "source": [
    "now = dt.now().strftime('%y%m%d')\n",
    "all_transaction_df.to_csv(f'/dev/shm/data/2.merged/merged-data-{now}.csv', index=False)"
   ]
  }
 ],
 "metadata": {
  "kernelspec": {
   "display_name": "airflow",
   "language": "python",
   "name": "python3"
  },
  "language_info": {
   "codemirror_mode": {
    "name": "ipython",
    "version": 3
   },
   "file_extension": ".py",
   "mimetype": "text/x-python",
   "name": "python",
   "nbconvert_exporter": "python",
   "pygments_lexer": "ipython3",
   "version": "3.10.13"
  }
 },
 "nbformat": 4,
 "nbformat_minor": 2
}
