{
 "cells": [
  {
   "cell_type": "markdown",
   "metadata": {},
   "source": [
    "# 2. 데이터 전처리"
   ]
  },
  {
   "cell_type": "code",
   "execution_count": 1,
   "metadata": {},
   "outputs": [],
   "source": [
    "import os\n",
    "from datetime import datetime as dt\n",
    "\n",
    "import numpy as np\n",
    "import pandas as pd\n",
    "from tqdm import tqdm"
   ]
  },
  {
   "cell_type": "code",
   "execution_count": 2,
   "metadata": {},
   "outputs": [],
   "source": [
    "merged_data_dir = '/dev/shm/data/2.merged'"
   ]
  },
  {
   "cell_type": "code",
   "execution_count": 3,
   "metadata": {},
   "outputs": [
    {
     "name": "stdout",
     "output_type": "stream",
     "text": [
      "all_transaction_df shape:  (450388, 4)\n"
     ]
    },
    {
     "data": {
      "text/html": [
       "<div>\n",
       "<style scoped>\n",
       "    .dataframe tbody tr th:only-of-type {\n",
       "        vertical-align: middle;\n",
       "    }\n",
       "\n",
       "    .dataframe tbody tr th {\n",
       "        vertical-align: top;\n",
       "    }\n",
       "\n",
       "    .dataframe thead th {\n",
       "        text-align: right;\n",
       "    }\n",
       "</style>\n",
       "<table border=\"1\" class=\"dataframe\">\n",
       "  <thead>\n",
       "    <tr style=\"text-align: right;\">\n",
       "      <th></th>\n",
       "      <th>uid</th>\n",
       "      <th>recipe_sno</th>\n",
       "      <th>rating</th>\n",
       "      <th>datetime</th>\n",
       "    </tr>\n",
       "  </thead>\n",
       "  <tbody>\n",
       "    <tr>\n",
       "      <th>233786</th>\n",
       "      <td>95968848</td>\n",
       "      <td>6957472</td>\n",
       "      <td>5.0</td>\n",
       "      <td>2023-09-08 19:50</td>\n",
       "    </tr>\n",
       "    <tr>\n",
       "      <th>274205</th>\n",
       "      <td>39897560</td>\n",
       "      <td>6868528</td>\n",
       "      <td>5.0</td>\n",
       "      <td>2021-12-14 23:32</td>\n",
       "    </tr>\n",
       "    <tr>\n",
       "      <th>365558</th>\n",
       "      <td>34666141</td>\n",
       "      <td>6868182</td>\n",
       "      <td>5.0</td>\n",
       "      <td>2017-06-14 21:21</td>\n",
       "    </tr>\n",
       "    <tr>\n",
       "      <th>141324</th>\n",
       "      <td>34639114</td>\n",
       "      <td>6869807</td>\n",
       "      <td>5.0</td>\n",
       "      <td>2021-10-20 13:57</td>\n",
       "    </tr>\n",
       "    <tr>\n",
       "      <th>283950</th>\n",
       "      <td>12098089</td>\n",
       "      <td>6878001</td>\n",
       "      <td>5.0</td>\n",
       "      <td>2019-08-13 11:26</td>\n",
       "    </tr>\n",
       "  </tbody>\n",
       "</table>\n",
       "</div>"
      ],
      "text/plain": [
       "             uid  recipe_sno  rating          datetime\n",
       "233786  95968848     6957472     5.0  2023-09-08 19:50\n",
       "274205  39897560     6868528     5.0  2021-12-14 23:32\n",
       "365558  34666141     6868182     5.0  2017-06-14 21:21\n",
       "141324  34639114     6869807     5.0  2021-10-20 13:57\n",
       "283950  12098089     6878001     5.0  2019-08-13 11:26"
      ]
     },
     "execution_count": 3,
     "metadata": {},
     "output_type": "execute_result"
    }
   ],
   "source": [
    "all_transaction_df = pd.read_csv(os.path.join(merged_data_dir, 'merged-data-240321.csv'))\n",
    "print('all_transaction_df shape: ', all_transaction_df.shape)\n",
    "all_transaction_df.sample(5)"
   ]
  },
  {
   "cell_type": "markdown",
   "metadata": {},
   "source": [
    "## 5, 10개 이하의 상호작용만 있는 유저, 레시피 제거"
   ]
  },
  {
   "cell_type": "code",
   "execution_count": 4,
   "metadata": {},
   "outputs": [],
   "source": [
    "def calculate_sparsity(target_df, threshold):\n",
    "\tdf = target_df.uid.value_counts()\n",
    "\tuser_over_5 = (df[df >= threshold]).index\n",
    "\tdf = target_df[target_df.uid.isin(user_over_5)]\n",
    "\tlen_unique_user = df.uid.nunique()\n",
    "\tlen_unique_recipe = df.recipe_sno.nunique()\n",
    "\tsparsity = df.shape[0]/df.uid.nunique()/df.recipe_sno.nunique() * 100\n",
    "\treturn len_unique_user, len_unique_recipe, sparsity, df"
   ]
  },
  {
   "cell_type": "code",
   "execution_count": 5,
   "metadata": {},
   "outputs": [
    {
     "data": {
      "text/plain": [
       "(20588, 58920, 0.02282248466701514, (276847, 4))"
      ]
     },
     "execution_count": 5,
     "metadata": {},
     "output_type": "execute_result"
    }
   ],
   "source": [
    "len_unique_user, len_unique_recipe, sparsity, all_transaction_5_df = calculate_sparsity(all_transaction_df, 5)\n",
    "len_unique_user, len_unique_recipe, sparsity, all_transaction_5_df.shape"
   ]
  },
  {
   "cell_type": "code",
   "execution_count": 6,
   "metadata": {},
   "outputs": [
    {
     "data": {
      "text/plain": [
       "(7992, 51317, 0.0478597446951014, (196285, 4))"
      ]
     },
     "execution_count": 6,
     "metadata": {},
     "output_type": "execute_result"
    }
   ],
   "source": [
    "len_unique_user, len_unique_recipe, sparsity, all_transaction_10_df = calculate_sparsity(all_transaction_df, 10)\n",
    "len_unique_user, len_unique_recipe, sparsity, all_transaction_10_df.shape"
   ]
  },
  {
   "cell_type": "code",
   "execution_count": 7,
   "metadata": {},
   "outputs": [],
   "source": [
    "now = dt.now().strftime('%y%m%d')\n",
    "all_transaction_5_df.to_csv(f'/dev/shm/data/3.preprocessed/merged-data-over-5-{now}.csv', index=False)\n",
    "all_transaction_10_df.to_csv(f'/dev/shm/data/3.preprocessed/merged-data-over-10-{now}.csv', index=False)"
   ]
  }
 ],
 "metadata": {
  "kernelspec": {
   "display_name": "airflow",
   "language": "python",
   "name": "python3"
  },
  "language_info": {
   "codemirror_mode": {
    "name": "ipython",
    "version": 3
   },
   "file_extension": ".py",
   "mimetype": "text/x-python",
   "name": "python",
   "nbconvert_exporter": "python",
   "pygments_lexer": "ipython3",
   "version": "3.10.13"
  }
 },
 "nbformat": 4,
 "nbformat_minor": 2
}
