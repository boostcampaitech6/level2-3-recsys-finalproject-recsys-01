{
 "cells": [
  {
   "cell_type": "markdown",
   "metadata": {},
   "source": [
    "# 3. data split by user"
   ]
  },
  {
   "cell_type": "code",
   "execution_count": 1,
   "metadata": {},
   "outputs": [],
   "source": [
    "import os\n",
    "from datetime import datetime as dt\n",
    "\n",
    "import numpy as np\n",
    "import pandas as pd\n",
    "from tqdm import tqdm"
   ]
  },
  {
   "cell_type": "code",
   "execution_count": 2,
   "metadata": {},
   "outputs": [],
   "source": [
    "preprocessed_data_dir = '/dev/shm/data/3.preprocessed/'"
   ]
  },
  {
   "cell_type": "code",
   "execution_count": 3,
   "metadata": {},
   "outputs": [
    {
     "name": "stdout",
     "output_type": "stream",
     "text": [
      "all_transaction_5_df shape:  (276847, 4)\n"
     ]
    },
    {
     "data": {
      "text/html": [
       "<div>\n",
       "<style scoped>\n",
       "    .dataframe tbody tr th:only-of-type {\n",
       "        vertical-align: middle;\n",
       "    }\n",
       "\n",
       "    .dataframe tbody tr th {\n",
       "        vertical-align: top;\n",
       "    }\n",
       "\n",
       "    .dataframe thead th {\n",
       "        text-align: right;\n",
       "    }\n",
       "</style>\n",
       "<table border=\"1\" class=\"dataframe\">\n",
       "  <thead>\n",
       "    <tr style=\"text-align: right;\">\n",
       "      <th></th>\n",
       "      <th>uid</th>\n",
       "      <th>recipe_sno</th>\n",
       "      <th>rating</th>\n",
       "      <th>datetime</th>\n",
       "    </tr>\n",
       "  </thead>\n",
       "  <tbody>\n",
       "    <tr>\n",
       "      <th>108938</th>\n",
       "      <td>27918181</td>\n",
       "      <td>6881990</td>\n",
       "      <td>5.0</td>\n",
       "      <td>2018-04-06 18:44</td>\n",
       "    </tr>\n",
       "    <tr>\n",
       "      <th>177362</th>\n",
       "      <td>78730171</td>\n",
       "      <td>6832325</td>\n",
       "      <td>5.0</td>\n",
       "      <td>2018-06-26 17:38</td>\n",
       "    </tr>\n",
       "    <tr>\n",
       "      <th>93952</th>\n",
       "      <td>77412926</td>\n",
       "      <td>6900988</td>\n",
       "      <td>5.0</td>\n",
       "      <td>2023-12-08 11:05</td>\n",
       "    </tr>\n",
       "    <tr>\n",
       "      <th>123177</th>\n",
       "      <td>58099972</td>\n",
       "      <td>4607250</td>\n",
       "      <td>5.0</td>\n",
       "      <td>2017-08-25 15:11</td>\n",
       "    </tr>\n",
       "    <tr>\n",
       "      <th>132639</th>\n",
       "      <td>18105397</td>\n",
       "      <td>6847221</td>\n",
       "      <td>5.0</td>\n",
       "      <td>2023-01-05 10:03</td>\n",
       "    </tr>\n",
       "  </tbody>\n",
       "</table>\n",
       "</div>"
      ],
      "text/plain": [
       "             uid  recipe_sno  rating          datetime\n",
       "108938  27918181     6881990     5.0  2018-04-06 18:44\n",
       "177362  78730171     6832325     5.0  2018-06-26 17:38\n",
       "93952   77412926     6900988     5.0  2023-12-08 11:05\n",
       "123177  58099972     4607250     5.0  2017-08-25 15:11\n",
       "132639  18105397     6847221     5.0  2023-01-05 10:03"
      ]
     },
     "execution_count": 3,
     "metadata": {},
     "output_type": "execute_result"
    }
   ],
   "source": [
    "all_transaction_5_df = pd.read_csv(os.path.join(preprocessed_data_dir, 'merged-data-over-5-240321.csv'))\n",
    "print('all_transaction_5_df shape: ', all_transaction_5_df.shape)\n",
    "all_transaction_5_df.sample(5)"
   ]
  },
  {
   "cell_type": "code",
   "execution_count": 4,
   "metadata": {},
   "outputs": [
    {
     "name": "stdout",
     "output_type": "stream",
     "text": [
      "all_transaction_10_df shape:  (196285, 4)\n"
     ]
    },
    {
     "data": {
      "text/html": [
       "<div>\n",
       "<style scoped>\n",
       "    .dataframe tbody tr th:only-of-type {\n",
       "        vertical-align: middle;\n",
       "    }\n",
       "\n",
       "    .dataframe tbody tr th {\n",
       "        vertical-align: top;\n",
       "    }\n",
       "\n",
       "    .dataframe thead th {\n",
       "        text-align: right;\n",
       "    }\n",
       "</style>\n",
       "<table border=\"1\" class=\"dataframe\">\n",
       "  <thead>\n",
       "    <tr style=\"text-align: right;\">\n",
       "      <th></th>\n",
       "      <th>uid</th>\n",
       "      <th>recipe_sno</th>\n",
       "      <th>rating</th>\n",
       "      <th>datetime</th>\n",
       "    </tr>\n",
       "  </thead>\n",
       "  <tbody>\n",
       "    <tr>\n",
       "      <th>28889</th>\n",
       "      <td>79115518</td>\n",
       "      <td>6929687</td>\n",
       "      <td>NaN</td>\n",
       "      <td>NaN</td>\n",
       "    </tr>\n",
       "    <tr>\n",
       "      <th>118707</th>\n",
       "      <td>67753797</td>\n",
       "      <td>6880462</td>\n",
       "      <td>5.0</td>\n",
       "      <td>2018-04-19 20:01</td>\n",
       "    </tr>\n",
       "    <tr>\n",
       "      <th>81459</th>\n",
       "      <td>darkngelmk</td>\n",
       "      <td>6868530</td>\n",
       "      <td>5.0</td>\n",
       "      <td>2019-11-12 06:27</td>\n",
       "    </tr>\n",
       "    <tr>\n",
       "      <th>16604</th>\n",
       "      <td>kpmj1</td>\n",
       "      <td>6871702</td>\n",
       "      <td>NaN</td>\n",
       "      <td>NaN</td>\n",
       "    </tr>\n",
       "    <tr>\n",
       "      <th>77596</th>\n",
       "      <td>77834726</td>\n",
       "      <td>6876693</td>\n",
       "      <td>5.0</td>\n",
       "      <td>2018-08-07 20:12</td>\n",
       "    </tr>\n",
       "  </tbody>\n",
       "</table>\n",
       "</div>"
      ],
      "text/plain": [
       "               uid  recipe_sno  rating          datetime\n",
       "28889     79115518     6929687     NaN               NaN\n",
       "118707    67753797     6880462     5.0  2018-04-19 20:01\n",
       "81459   darkngelmk     6868530     5.0  2019-11-12 06:27\n",
       "16604        kpmj1     6871702     NaN               NaN\n",
       "77596     77834726     6876693     5.0  2018-08-07 20:12"
      ]
     },
     "execution_count": 4,
     "metadata": {},
     "output_type": "execute_result"
    }
   ],
   "source": [
    "all_transaction_10_df = pd.read_csv(os.path.join(preprocessed_data_dir, 'merged-data-over-10-240321.csv'))\n",
    "print('all_transaction_10_df shape: ', all_transaction_10_df.shape)\n",
    "all_transaction_10_df.sample(5)"
   ]
  },
  {
   "cell_type": "code",
   "execution_count": 5,
   "metadata": {},
   "outputs": [],
   "source": [
    "def split_by_user(df, train_ratio=.8):\n",
    "\ttrain_ratio = .8\n",
    "\ttrain_data = pd.DataFrame(columns=df.columns)\n",
    "\ttest_data = pd.DataFrame(columns=df.columns)\n",
    "\n",
    "\tfor uid, user_df in tqdm(df.groupby('uid')):\n",
    "\n",
    "\t\t# 시간 순으로 정렬 (na의 경우 가장 오래된 데이터 취급)\n",
    "\t\tsorted_user_df = user_df.sort_values(by='datetime', na_position='first')\n",
    "\n",
    "\t\t# 목표 분할 비율에 맞는 인덱스 찾기\n",
    "\t\tsplit_point = int(len(sorted_user_df) * train_ratio)\n",
    "\n",
    "\t\t# 데이터 분할\n",
    "\t\ttrain_data = pd.concat([train_data, sorted_user_df.iloc[:split_point]])\n",
    "\t\ttest_data = pd.concat([test_data, sorted_user_df.iloc[split_point:]])\n",
    "\t\n",
    "\treturn train_data, test_data"
   ]
  },
  {
   "cell_type": "code",
   "execution_count": 6,
   "metadata": {},
   "outputs": [
    {
     "name": "stderr",
     "output_type": "stream",
     "text": [
      "  0%|          | 0/20588 [00:00<?, ?it/s]/tmp/ipykernel_1366939/2540369673.py:15: FutureWarning: The behavior of DataFrame concatenation with empty or all-NA entries is deprecated. In a future version, this will no longer exclude empty or all-NA columns when determining the result dtypes. To retain the old behavior, exclude the relevant entries before the concat operation.\n",
      "  train_data = pd.concat([train_data, sorted_user_df.iloc[:split_point]])\n",
      "/tmp/ipykernel_1366939/2540369673.py:16: FutureWarning: The behavior of DataFrame concatenation with empty or all-NA entries is deprecated. In a future version, this will no longer exclude empty or all-NA columns when determining the result dtypes. To retain the old behavior, exclude the relevant entries before the concat operation.\n",
      "  test_data = pd.concat([test_data, sorted_user_df.iloc[split_point:]])\n",
      "100%|██████████| 20588/20588 [02:49<00:00, 121.23it/s]\n",
      "  0%|          | 0/7992 [00:00<?, ?it/s]/tmp/ipykernel_1366939/2540369673.py:15: FutureWarning: The behavior of DataFrame concatenation with empty or all-NA entries is deprecated. In a future version, this will no longer exclude empty or all-NA columns when determining the result dtypes. To retain the old behavior, exclude the relevant entries before the concat operation.\n",
      "  train_data = pd.concat([train_data, sorted_user_df.iloc[:split_point]])\n",
      "/tmp/ipykernel_1366939/2540369673.py:16: FutureWarning: The behavior of DataFrame concatenation with empty or all-NA entries is deprecated. In a future version, this will no longer exclude empty or all-NA columns when determining the result dtypes. To retain the old behavior, exclude the relevant entries before the concat operation.\n",
      "  test_data = pd.concat([test_data, sorted_user_df.iloc[split_point:]])\n",
      "100%|██████████| 7992/7992 [00:38<00:00, 208.11it/s]\n"
     ]
    }
   ],
   "source": [
    "train_data_5, test_data_5 = split_by_user(all_transaction_5_df)\n",
    "train_data_10, test_data_10 = split_by_user(all_transaction_10_df)"
   ]
  },
  {
   "cell_type": "code",
   "execution_count": 7,
   "metadata": {},
   "outputs": [],
   "source": [
    "# print(train_data.uid.nunique())\n",
    "# print(train_data.recipe_sno.nunique())\n",
    "# print(test_data.uid.nunique())\n",
    "# print(test_data.recipe_sno.nunique())"
   ]
  },
  {
   "cell_type": "code",
   "execution_count": 9,
   "metadata": {},
   "outputs": [
    {
     "data": {
      "text/plain": [
       "((213757, 4), (63090, 4))"
      ]
     },
     "execution_count": 9,
     "metadata": {},
     "output_type": "execute_result"
    }
   ],
   "source": [
    "train_data_5.shape, test_data_5.shape"
   ]
  },
  {
   "cell_type": "code",
   "execution_count": 10,
   "metadata": {},
   "outputs": [
    {
     "data": {
      "text/plain": [
       "((153955, 4), (42330, 4))"
      ]
     },
     "execution_count": 10,
     "metadata": {},
     "output_type": "execute_result"
    }
   ],
   "source": [
    "train_data_10.shape, test_data_10.shape"
   ]
  },
  {
   "cell_type": "code",
   "execution_count": 8,
   "metadata": {},
   "outputs": [],
   "source": [
    "now = dt.now().strftime('%y%m%d')\n",
    "train_data_5.to_csv(f'/dev/shm/data/4.split-by-user/train-data-over-5-{now}.csv', index=False)\n",
    "test_data_5.to_csv(f'/dev/shm/data/4.split-by-user/test-data-over-5-{now}.csv', index=False)\n",
    "train_data_10.to_csv(f'/dev/shm/data/4.split-by-user/train-data-over-10-{now}.csv', index=False)\n",
    "test_data_10.to_csv(f'/dev/shm/data/4.split-by-user/test-data-over-10-{now}.csv', index=False)"
   ]
  }
 ],
 "metadata": {
  "kernelspec": {
   "display_name": "airflow",
   "language": "python",
   "name": "python3"
  },
  "language_info": {
   "codemirror_mode": {
    "name": "ipython",
    "version": 3
   },
   "file_extension": ".py",
   "mimetype": "text/x-python",
   "name": "python",
   "nbconvert_exporter": "python",
   "pygments_lexer": "ipython3",
   "version": "3.10.13"
  }
 },
 "nbformat": 4,
 "nbformat_minor": 2
}
