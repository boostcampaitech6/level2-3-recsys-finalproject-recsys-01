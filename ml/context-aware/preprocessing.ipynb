{
 "cells": [
  {
   "cell_type": "code",
   "execution_count": 1,
   "metadata": {},
   "outputs": [],
   "source": [
    "import pandas as pd"
   ]
  },
  {
   "cell_type": "code",
   "execution_count": 2,
   "metadata": {},
   "outputs": [],
   "source": [
    "data_path = \"/dev/shm/notebooks/recipe-context/merged_recipes.csv\""
   ]
  },
  {
   "cell_type": "code",
   "execution_count": 3,
   "metadata": {},
   "outputs": [
    {
     "name": "stderr",
     "output_type": "stream",
     "text": [
      "/tmp/ipykernel_1465648/3398471431.py:1: DtypeWarning: Columns (12) have mixed types. Specify dtype option on import or set low_memory=False.\n",
      "  recipe_data = pd.read_csv(data_path, on_bad_lines='skip')\n"
     ]
    }
   ],
   "source": [
    "recipe_data = pd.read_csv(data_path, on_bad_lines='skip')\n",
    "recipe_data.nunique()"
   ]
  },
  {
   "cell_type": "code",
   "execution_count": 12,
   "metadata": {},
   "outputs": [
    {
     "data": {
      "text/html": [
       "<div>\n",
       "<style scoped>\n",
       "    .dataframe tbody tr th:only-of-type {\n",
       "        vertical-align: middle;\n",
       "    }\n",
       "\n",
       "    .dataframe tbody tr th {\n",
       "        vertical-align: top;\n",
       "    }\n",
       "\n",
       "    .dataframe thead th {\n",
       "        text-align: right;\n",
       "    }\n",
       "</style>\n",
       "<table border=\"1\" class=\"dataframe\">\n",
       "  <thead>\n",
       "    <tr style=\"text-align: right;\">\n",
       "      <th></th>\n",
       "      <th>recipe_id</th>\n",
       "      <th>recipe_title</th>\n",
       "      <th>recipe_name</th>\n",
       "      <th>author_id</th>\n",
       "      <th>author_name</th>\n",
       "      <th>recipe_method</th>\n",
       "      <th>recipe_status</th>\n",
       "      <th>recipe_kind</th>\n",
       "      <th>time_taken</th>\n",
       "      <th>difficulty</th>\n",
       "      <th>recipe_url</th>\n",
       "      <th>portion</th>\n",
       "      <th>datePublished</th>\n",
       "      <th>food_img_url</th>\n",
       "      <th>ingredient</th>\n",
       "      <th>reviews</th>\n",
       "      <th>photo_reviews</th>\n",
       "      <th>comments</th>\n",
       "    </tr>\n",
       "  </thead>\n",
       "  <tbody>\n",
       "    <tr>\n",
       "      <th>0</th>\n",
       "      <td>6908128</td>\n",
       "      <td>홍합 오일 파스타</td>\n",
       "      <td>홍합 오일 파스타</td>\n",
       "      <td>ottogitoday1</td>\n",
       "      <td>오뚜기레시피</td>\n",
       "      <td>NaN</td>\n",
       "      <td>NaN</td>\n",
       "      <td>NaN</td>\n",
       "      <td>30분이내</td>\n",
       "      <td>초급</td>\n",
       "      <td>https://www.10000recipe.com/recipe/6908128</td>\n",
       "      <td>1인분</td>\n",
       "      <td>2019-03-11T10:42:26+09:00</td>\n",
       "      <td>https://recipe1.ezmember.co.kr/cache/recipe/20...</td>\n",
       "      <td>{'재료': [{'name': '오뚜기 프레스코 올리브유', 'amount': '4...</td>\n",
       "      <td>2</td>\n",
       "      <td>1</td>\n",
       "      <td>1</td>\n",
       "    </tr>\n",
       "    <tr>\n",
       "      <th>1</th>\n",
       "      <td>6926581</td>\n",
       "      <td>수미네 반찬, 아삭아삭 우엉잡채 레시피</td>\n",
       "      <td>수미네 반찬, 아삭아삭 우엉잡채 레시피</td>\n",
       "      <td>hskim4127</td>\n",
       "      <td>저녁노을</td>\n",
       "      <td>NaN</td>\n",
       "      <td>NaN</td>\n",
       "      <td>NaN</td>\n",
       "      <td>30분이내</td>\n",
       "      <td>초급</td>\n",
       "      <td>https://www.10000recipe.com/recipe/6926581</td>\n",
       "      <td>4인분</td>\n",
       "      <td>2020-02-14T07:43:05+09:00</td>\n",
       "      <td>https://recipe1.ezmember.co.kr/cache/recipe/20...</td>\n",
       "      <td>{'재료': [{'name': '우엉', 'amount': '2대'}, {'name...</td>\n",
       "      <td>0</td>\n",
       "      <td>0</td>\n",
       "      <td>0</td>\n",
       "    </tr>\n",
       "    <tr>\n",
       "      <th>2</th>\n",
       "      <td>6406172</td>\n",
       "      <td>금요일밤과 잘 어울리는 맥주&amp;고등어튀김 :)</td>\n",
       "      <td>금요일밤과 잘 어울리는 맥주&amp;고등어튀김 :)</td>\n",
       "      <td>catmago18</td>\n",
       "      <td>NaN</td>\n",
       "      <td>NaN</td>\n",
       "      <td>NaN</td>\n",
       "      <td>NaN</td>\n",
       "      <td>NaN</td>\n",
       "      <td>NaN</td>\n",
       "      <td>https://www.10000recipe.com/recipe/6406172</td>\n",
       "      <td>NaN</td>\n",
       "      <td>2014-12-05T22:30:10+09:00</td>\n",
       "      <td>https://recipe1.ezmember.co.kr/cache/recipe/20...</td>\n",
       "      <td>{}</td>\n",
       "      <td>1</td>\n",
       "      <td>0</td>\n",
       "      <td>1</td>\n",
       "    </tr>\n",
       "    <tr>\n",
       "      <th>3</th>\n",
       "      <td>6918991</td>\n",
       "      <td>명절음식 애호박전 만들어봤어요</td>\n",
       "      <td>명절음식 애호박전 만들어봤어요</td>\n",
       "      <td>79115518</td>\n",
       "      <td>구름달빛</td>\n",
       "      <td>NaN</td>\n",
       "      <td>NaN</td>\n",
       "      <td>NaN</td>\n",
       "      <td>NaN</td>\n",
       "      <td>NaN</td>\n",
       "      <td>https://www.10000recipe.com/recipe/6918991</td>\n",
       "      <td>NaN</td>\n",
       "      <td>2019-09-11T07:16:23+09:00</td>\n",
       "      <td>https://recipe1.ezmember.co.kr/cache/recipe/20...</td>\n",
       "      <td>{'재료': [{'name': '애호박', 'amount': '1개'}, {'nam...</td>\n",
       "      <td>0</td>\n",
       "      <td>0</td>\n",
       "      <td>0</td>\n",
       "    </tr>\n",
       "    <tr>\n",
       "      <th>4</th>\n",
       "      <td>6855114</td>\n",
       "      <td>간단한 잡채 만드는법, 잡채 황금레시피, 만능간장 만드는법, 불고기양념 만드는법</td>\n",
       "      <td>간단한 잡채 만드는법, 잡채 황금레시피, 만능간장 만드는법, 불고기양념 만드는법</td>\n",
       "      <td>yeoniary</td>\n",
       "      <td>yeoniary</td>\n",
       "      <td>NaN</td>\n",
       "      <td>NaN</td>\n",
       "      <td>NaN</td>\n",
       "      <td>NaN</td>\n",
       "      <td>NaN</td>\n",
       "      <td>https://www.10000recipe.com/recipe/6855114</td>\n",
       "      <td>NaN</td>\n",
       "      <td>2016-08-22T15:49:44+09:00</td>\n",
       "      <td>https://recipe1.ezmember.co.kr/cache/recipe/20...</td>\n",
       "      <td>['당면', '잡채용돼지고기', '목이버섯', '표고버섯', '빨간파프리카', '노...</td>\n",
       "      <td>2</td>\n",
       "      <td>0</td>\n",
       "      <td>0</td>\n",
       "    </tr>\n",
       "  </tbody>\n",
       "</table>\n",
       "</div>"
      ],
      "text/plain": [
       "   recipe_id                                  recipe_title  \\\n",
       "0    6908128                                     홍합 오일 파스타   \n",
       "1    6926581                         수미네 반찬, 아삭아삭 우엉잡채 레시피   \n",
       "2    6406172                      금요일밤과 잘 어울리는 맥주&고등어튀김 :)   \n",
       "3    6918991                              명절음식 애호박전 만들어봤어요   \n",
       "4    6855114  간단한 잡채 만드는법, 잡채 황금레시피, 만능간장 만드는법, 불고기양념 만드는법   \n",
       "\n",
       "                                    recipe_name     author_id author_name  \\\n",
       "0                                     홍합 오일 파스타  ottogitoday1      오뚜기레시피   \n",
       "1                         수미네 반찬, 아삭아삭 우엉잡채 레시피     hskim4127        저녁노을   \n",
       "2                      금요일밤과 잘 어울리는 맥주&고등어튀김 :)     catmago18         NaN   \n",
       "3                              명절음식 애호박전 만들어봤어요      79115518        구름달빛   \n",
       "4  간단한 잡채 만드는법, 잡채 황금레시피, 만능간장 만드는법, 불고기양념 만드는법      yeoniary    yeoniary   \n",
       "\n",
       "  recipe_method recipe_status recipe_kind time_taken difficulty  \\\n",
       "0           NaN           NaN         NaN      30분이내         초급   \n",
       "1           NaN           NaN         NaN      30분이내         초급   \n",
       "2           NaN           NaN         NaN        NaN        NaN   \n",
       "3           NaN           NaN         NaN        NaN        NaN   \n",
       "4           NaN           NaN         NaN        NaN        NaN   \n",
       "\n",
       "                                   recipe_url portion  \\\n",
       "0  https://www.10000recipe.com/recipe/6908128     1인분   \n",
       "1  https://www.10000recipe.com/recipe/6926581     4인분   \n",
       "2  https://www.10000recipe.com/recipe/6406172     NaN   \n",
       "3  https://www.10000recipe.com/recipe/6918991     NaN   \n",
       "4  https://www.10000recipe.com/recipe/6855114     NaN   \n",
       "\n",
       "               datePublished  \\\n",
       "0  2019-03-11T10:42:26+09:00   \n",
       "1  2020-02-14T07:43:05+09:00   \n",
       "2  2014-12-05T22:30:10+09:00   \n",
       "3  2019-09-11T07:16:23+09:00   \n",
       "4  2016-08-22T15:49:44+09:00   \n",
       "\n",
       "                                        food_img_url  \\\n",
       "0  https://recipe1.ezmember.co.kr/cache/recipe/20...   \n",
       "1  https://recipe1.ezmember.co.kr/cache/recipe/20...   \n",
       "2  https://recipe1.ezmember.co.kr/cache/recipe/20...   \n",
       "3  https://recipe1.ezmember.co.kr/cache/recipe/20...   \n",
       "4  https://recipe1.ezmember.co.kr/cache/recipe/20...   \n",
       "\n",
       "                                          ingredient  reviews  photo_reviews  \\\n",
       "0  {'재료': [{'name': '오뚜기 프레스코 올리브유', 'amount': '4...        2              1   \n",
       "1  {'재료': [{'name': '우엉', 'amount': '2대'}, {'name...        0              0   \n",
       "2                                                 {}        1              0   \n",
       "3  {'재료': [{'name': '애호박', 'amount': '1개'}, {'nam...        0              0   \n",
       "4  ['당면', '잡채용돼지고기', '목이버섯', '표고버섯', '빨간파프리카', '노...        2              0   \n",
       "\n",
       "   comments  \n",
       "0         1  \n",
       "1         0  \n",
       "2         1  \n",
       "3         0  \n",
       "4         0  "
      ]
     },
     "execution_count": 12,
     "metadata": {},
     "output_type": "execute_result"
    }
   ],
   "source": [
    "recipe_data.head(5)\n",
    "\n",
    "# recipe_id\t\n",
    "# recipe_title\t\n",
    "# recipe_name\t\n",
    "# author_id\t\n",
    "# author_name\t\n",
    "# recipe_method\t\n",
    "# recipe_status\t\n",
    "# recipe_kind\t\n",
    "# time_taken \n",
    "# difficulty \n",
    "# recipe_url -> 제외\n",
    "# portion \n",
    "# datePublished\t\n",
    "# food_img_url -> 사진 직접 가져와서 처리할 거 아니면 의미 x\n",
    "# ingredient -> 재료 표준화 필요 -> 일단 재료 안 넣고 돌아가나 확인\n",
    "# reviews \n",
    "# photo_reviews\t\n",
    "# comments \n"
   ]
  },
  {
   "cell_type": "code",
   "execution_count": 26,
   "metadata": {},
   "outputs": [
    {
     "data": {
      "text/html": [
       "<div>\n",
       "<style scoped>\n",
       "    .dataframe tbody tr th:only-of-type {\n",
       "        vertical-align: middle;\n",
       "    }\n",
       "\n",
       "    .dataframe tbody tr th {\n",
       "        vertical-align: top;\n",
       "    }\n",
       "\n",
       "    .dataframe thead th {\n",
       "        text-align: right;\n",
       "    }\n",
       "</style>\n",
       "<table border=\"1\" class=\"dataframe\">\n",
       "  <thead>\n",
       "    <tr style=\"text-align: right;\">\n",
       "      <th></th>\n",
       "      <th>recipe_method</th>\n",
       "      <th>recipe_status</th>\n",
       "      <th>recipe_kind</th>\n",
       "      <th>time_taken</th>\n",
       "    </tr>\n",
       "  </thead>\n",
       "  <tbody>\n",
       "    <tr>\n",
       "      <th>4502</th>\n",
       "      <td>굽기</td>\n",
       "      <td>간식</td>\n",
       "      <td>디저트</td>\n",
       "      <td>5분이내</td>\n",
       "    </tr>\n",
       "    <tr>\n",
       "      <th>4503</th>\n",
       "      <td>끓이기</td>\n",
       "      <td>일상</td>\n",
       "      <td>메인반찬</td>\n",
       "      <td>30분이내</td>\n",
       "    </tr>\n",
       "    <tr>\n",
       "      <th>4504</th>\n",
       "      <td>끓이기</td>\n",
       "      <td>일상</td>\n",
       "      <td>메인반찬</td>\n",
       "      <td>10분이내</td>\n",
       "    </tr>\n",
       "    <tr>\n",
       "      <th>4505</th>\n",
       "      <td>끓이기</td>\n",
       "      <td>일상</td>\n",
       "      <td>밥/죽/떡</td>\n",
       "      <td>60분이내</td>\n",
       "    </tr>\n",
       "    <tr>\n",
       "      <th>4506</th>\n",
       "      <td>조림</td>\n",
       "      <td>일상</td>\n",
       "      <td>메인반찬</td>\n",
       "      <td>30분이내</td>\n",
       "    </tr>\n",
       "  </tbody>\n",
       "</table>\n",
       "</div>"
      ],
      "text/plain": [
       "     recipe_method recipe_status recipe_kind time_taken\n",
       "4502            굽기            간식         디저트       5분이내\n",
       "4503           끓이기            일상        메인반찬      30분이내\n",
       "4504           끓이기            일상        메인반찬      10분이내\n",
       "4505           끓이기            일상       밥/죽/떡      60분이내\n",
       "4506            조림            일상        메인반찬      30분이내"
      ]
     },
     "execution_count": 26,
     "metadata": {},
     "output_type": "execute_result"
    }
   ],
   "source": [
    "df = recipe_data[[\"recipe_method\", \"recipe_status\", \"recipe_kind\", \"time_taken\"]]\n",
    "df = df.dropna()\n",
    "df.head()"
   ]
  },
  {
   "cell_type": "code",
   "execution_count": 27,
   "metadata": {},
   "outputs": [
    {
     "data": {
      "text/plain": [
       "recipe_method    14\n",
       "recipe_status    13\n",
       "recipe_kind      17\n",
       "time_taken        8\n",
       "dtype: int64"
      ]
     },
     "execution_count": 27,
     "metadata": {},
     "output_type": "execute_result"
    }
   ],
   "source": [
    "df.nunique()"
   ]
  },
  {
   "cell_type": "markdown",
   "metadata": {},
   "source": [
    "# 결측값 확인"
   ]
  },
  {
   "cell_type": "code",
   "execution_count": 33,
   "metadata": {},
   "outputs": [
    {
     "name": "stdout",
     "output_type": "stream",
     "text": [
      "recipe_id 결측치: 0.0%\n",
      "recipe_title 결측치: 0.02%\n",
      "recipe_name 결측치: 0.06%\n",
      "author_id 결측치: 0.02%\n",
      "author_name 결측치: 0.85%\n",
      "recipe_method 결측치: 2.37%\n",
      "recipe_status 결측치: 2.92%\n",
      "recipe_kind 결측치: 2.37%\n",
      "time_taken 결측치: 9.75%\n",
      "difficulty 결측치: 1.26%\n",
      "recipe_url 결측치: 0.0%\n",
      "portion 결측치: 3.64%\n",
      "datePublished 결측치: 0.03%\n",
      "food_img_url 결측치: 0.14%\n",
      "ingredient 결측치: 0.23%\n",
      "reviews 결측치: 0.0%\n",
      "photo_reviews 결측치: 0.0%\n",
      "comments 결측치: 0.0%\n"
     ]
    }
   ],
   "source": [
    "raw = recipe_data\n",
    "nan_counts = raw.isna().sum()\n",
    "num_rows = raw.shape[0]\n",
    "\n",
    "for col, cnt in zip(recipe_data.columns, nan_counts):\n",
    "    rate = round(cnt / num_rows * 100, 2)\n",
    "    print(f'{col} 결측치: {rate}%')"
   ]
  },
  {
   "cell_type": "markdown",
   "metadata": {},
   "source": [
    "## recipe_method, recipe_status, recipe_kind 결측값 확인"
   ]
  },
  {
   "cell_type": "code",
   "execution_count": 31,
   "metadata": {},
   "outputs": [
    {
     "name": "stdout",
     "output_type": "stream",
     "text": [
      "189926\n",
      "recipe_method    4503\n",
      "recipe_status    5543\n",
      "recipe_kind      4503\n",
      "dtype: int64\n",
      "recipe_method 결측치: 2.37%\n",
      "recipe_status 결측치: 2.92%\n",
      "recipe_kind 결측치: 2.37%\n"
     ]
    }
   ],
   "source": [
    "columns = [\"recipe_method\", \"recipe_status\", \"recipe_kind\"]\n",
    "raw = recipe_data[columns]\n",
    "nan_counts = raw.isna().sum()\n",
    "num_rows = raw.shape[0]\n",
    "\n",
    "for col, cnt in zip(columns, nan_counts):\n",
    "    rate = round(cnt / num_rows * 100, 2)\n",
    "    print(f'{col} 결측치: {rate}%')\n"
   ]
  },
  {
   "cell_type": "code",
   "execution_count": null,
   "metadata": {},
   "outputs": [],
   "source": []
  },
  {
   "cell_type": "code",
   "execution_count": null,
   "metadata": {},
   "outputs": [],
   "source": [
    "# item 만들기\n",
    "\n",
    "transform_data = recipe_data[[\"recipe_id\", \"recipe_title\", \"author_id\", \"recipe_method\", \"recipe_status\", \"recipe_kind\", \"time_taken\",\t\"difficulty\"]]\n",
    "transform_data.columns = ['item_id:token', 'recipe_title:token_seq', 'author_id:token', 'recipe_method:token', 'recipe_status:token', 'recipe_kind:token', 'time_taken:token', 'difficulty:token']\n",
    "transform_data.to_csv('/dev/shm/data/BasketRecommendation/BasketRecommendation.item', index=False, sep='\\t')"
   ]
  },
  {
   "cell_type": "code",
   "execution_count": null,
   "metadata": {},
   "outputs": [],
   "source": []
  }
 ],
 "metadata": {
  "kernelspec": {
   "display_name": "airflow",
   "language": "python",
   "name": "python3"
  },
  "language_info": {
   "codemirror_mode": {
    "name": "ipython",
    "version": 3
   },
   "file_extension": ".py",
   "mimetype": "text/x-python",
   "name": "python",
   "nbconvert_exporter": "python",
   "pygments_lexer": "ipython3",
   "version": "3.10.13"
  }
 },
 "nbformat": 4,
 "nbformat_minor": 2
}
